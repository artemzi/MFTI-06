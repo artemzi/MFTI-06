{
 "cells": [
  {
   "cell_type": "code",
   "execution_count": 149,
   "metadata": {},
   "outputs": [],
   "source": [
    "import numpy as np\n",
    "import scipy as sp\n",
    "import pandas as pd\n",
    "\n",
    "from sklearn.feature_extraction.text import TfidfVectorizer, TfidfTransformer\n",
    "from sklearn.pipeline import Pipeline\n",
    "from sklearn.linear_model import SGDClassifier\n",
    "from sklearn import metrics, model_selection\n",
    "from sklearn.model_selection import train_test_split\n",
    "from sklearn.grid_search import GridSearchCV\n",
    "\n",
    "from lxml import etree\n",
    "import pickle"
   ]
  },
  {
   "cell_type": "markdown",
   "metadata": {},
   "source": [
    "### Парсинг"
   ]
  },
  {
   "cell_type": "markdown",
   "metadata": {},
   "source": [
    "Для парсинга воспользуемся фреймворком scrapy. Парсить будем всего один сайт. Выбран был именно этот поскольку соответствует тематике и довольно прост."
   ]
  },
  {
   "cell_type": "code",
   "execution_count": null,
   "metadata": {
    "collapsed": true
   },
   "outputs": [],
   "source": [
    "import scrapy\n",
    "\n",
    "# run it in scrapy project with\n",
    "# scrapy crawl deal64 -o deal64.json\n",
    "# do not forget to add `FEED_EXPORT_ENCODING = 'utf-8'` for russian letters\n",
    "class QuotesSpider(scrapy.Spider):\n",
    "    name = \"deal64\"\n",
    "    start_urls = [\n",
    "        'http://deal64.ga/',\n",
    "        'http://deal64.ga/mobile/',\n",
    "    ]\n",
    "\n",
    "    def parse(self, response):\n",
    "        # follow review\n",
    "        for href in response.css('ul.ilink a::attr(href)'):\n",
    "            yield response.follow(href, callback=self.parse_review)\n",
    "\n",
    "        # follow phones\n",
    "        for href in response.css('div.products div.entry div.text a::attr(href)'):\n",
    "            yield response.follow(href, callback=self.parse)\n",
    "\n",
    "        # follow pagination links\n",
    "        for href in response.css('div.paging a::attr(href)'):\n",
    "            yield response.follow(href, callback=self.parse)\n",
    "\n",
    "    def parse_review(self, response):\n",
    "        for entry in response.css('div.reviews div.entry div.text'):\n",
    "            text_list = entry.css('*::text').extract()\n",
    "            data = [] # текущий элемент, в нем может быть либо отзыв За или Против, оценка, или отзыв без оценки\n",
    "            for item in text_list:\n",
    "                if item != ' ': # в блоке с Оценкой избавляемся от пустого элемента\n",
    "                    data.append(item)\n",
    "            if len(data) == 2: # здесь будут либо отзывы с оценками (+/-), либо числовой рейтинг.\n",
    "                if data[0] == 'Оценка:': # если число, сохраним, чтобы использовать там, где нет оценки к отзыву.\n",
    "                    current_rate = data\n",
    "                else:\n",
    "                    yield {\n",
    "                        data[0]: data[1] # просто пишем в json За/Против: текст отзыва.\n",
    "                    }\n",
    "            elif len(data) == 1: # это общий отзыв пользователя, которой он разметил после \"Против\", без метки оценки\n",
    "                if int(current_rate[1]) > 3: # добавим оценку на основе числового рейтинга\n",
    "                    review = 'За:'\n",
    "                else:\n",
    "                    review = 'Против:'\n",
    "                yield {\n",
    "                    review: data[0] # просто пишем в json За/Против: текст отзыва.\n",
    "                }\n"
   ]
  },
  {
   "cell_type": "markdown",
   "metadata": {},
   "source": [
    "Приведенный выше код не работает в данном ноутбуке, для его запуска нужно добавить данный парсер в проект scrapy и запустить передав в качестве параметра файл в который будет сохранен результат. Выглядеть результат будет довольно просто(это json файл):\n",
    "\n",
    "```\n",
    "{\"За:\": \" Маленькая глубина посадки. Реально глубиной с лодошку. Это очень радует. Все провода свободно лежат и ни куда не упераются. Комплектация.\"},\n",
    "{\"Против:\": \" Все таки нет пульта. Он есть (на сколько я понял) в USA комплекте (но там нет чехла)). Гнездо антенны - для европейских машин нужен переходник (купил за 20 рублей). При отключении аккумулятора происходит сброс всех настроек (кроме БТ) Медленная перемотка дорожки (не удобно при прослушивании длинных сетов)\"},\n",
    "```\n",
    "\n",
    "Файл словаря получившийся в результате приведен в архиве сабмишена к заданию. Всего получилось 12350 отзывов."
   ]
  },
  {
   "cell_type": "markdown",
   "metadata": {},
   "source": [
    "### Строим модель"
   ]
  },
  {
   "cell_type": "markdown",
   "metadata": {},
   "source": [
    "Для начала нужно считать полученные отзывы и преобразовать их к удобному виду."
   ]
  },
  {
   "cell_type": "code",
   "execution_count": 129,
   "metadata": {},
   "outputs": [],
   "source": [
    "data = pd.read_json('data/deal64.json')\n",
    "pos = data['За:']\n",
    "neg = data['Против:']\n",
    "pos.dropna(inplace=True)\n",
    "neg.dropna(inplace=True)"
   ]
  },
  {
   "cell_type": "code",
   "execution_count": 131,
   "metadata": {},
   "outputs": [],
   "source": [
    "data_pos = pd.DataFrame(data=dict(text=pos, rate=1))\n",
    "data_neg = pd.DataFrame(data=dict(text=neg, rate=0))"
   ]
  },
  {
   "cell_type": "code",
   "execution_count": 132,
   "metadata": {},
   "outputs": [],
   "source": [
    "train = pd.concat([data_pos, data_neg])"
   ]
  },
  {
   "cell_type": "code",
   "execution_count": 133,
   "metadata": {},
   "outputs": [
    {
     "name": "stdout",
     "output_type": "stream",
     "text": [
      "1    7243\n",
      "0    5105\n",
      "Name: rate, dtype: int64\n"
     ]
    }
   ],
   "source": [
    "print(train.rate.value_counts())"
   ]
  },
  {
   "cell_type": "code",
   "execution_count": 134,
   "metadata": {},
   "outputs": [],
   "source": [
    "from sklearn.utils import shuffle\n",
    "\n",
    "train = shuffle(train)\n",
    "train.reset_index(inplace=True, drop=True)"
   ]
  },
  {
   "cell_type": "code",
   "execution_count": 141,
   "metadata": {},
   "outputs": [
    {
     "name": "stdout",
     "output_type": "stream",
     "text": [
      "   rate                                               text\n",
      "0     0   Сенсор, горилла глас, глючит андроид, мало па...\n",
      "1     0   Недостатков два камеру хотелось бы 1,3 пиксел...\n",
      "2     0   возникла проблема с зарядным устройством на п...\n",
      "3     1                                    большой дисплей\n",
      "4     1   Меньше месяца пользуюсь,а уже сломался (морга...\n",
      "\n",
      "------\n",
      "\n",
      "<class 'pandas.core.frame.DataFrame'>\n",
      "RangeIndex: 12348 entries, 0 to 12347\n",
      "Data columns (total 2 columns):\n",
      "rate    12348 non-null int64\n",
      "text    12348 non-null object\n",
      "dtypes: int64(1), object(1)\n",
      "memory usage: 193.0+ KB\n",
      "None\n",
      "\n",
      "------\n",
      "\n",
      "1    7243\n",
      "0    5105\n",
      "Name: rate, dtype: int64\n"
     ]
    }
   ],
   "source": [
    "print(train.head())\n",
    "print('\\n------\\n')\n",
    "print(train.info())\n",
    "print('\\n------\\n')\n",
    "print(train.rate.value_counts())"
   ]
  },
  {
   "cell_type": "markdown",
   "metadata": {},
   "source": [
    "То же самое сделаем для тестовых данных, приведем к более понятному виду."
   ]
  },
  {
   "cell_type": "code",
   "execution_count": 24,
   "metadata": {},
   "outputs": [],
   "source": [
    "def add_outer_tags(filename):\n",
    "    with open(filename, 'r+') as f:        \n",
    "        content = f.read()        \n",
    "        f.seek(0, 0)\n",
    "        firstline = f.readline()\n",
    "        if '<data>' not in firstline:            \n",
    "            f.seek(0, 0)\n",
    "            f.write('<data>' + '\\n' + content + '\\n</data>')\n",
    "\n",
    "def iter_tree(etree):\n",
    "    n = -1\n",
    "    for review in etree.iter('review'):\n",
    "        n += 1\n",
    "        yield (n, review.text)\n",
    "        \n",
    "add_outer_tags('data/test.csv')"
   ]
  },
  {
   "cell_type": "code",
   "execution_count": 144,
   "metadata": {},
   "outputs": [],
   "source": [
    "tree = etree.parse('data/test.csv')\n",
    "test = pd.DataFrame(list(iter_tree(tree)), columns=['id', 'text'])"
   ]
  },
  {
   "cell_type": "code",
   "execution_count": 146,
   "metadata": {},
   "outputs": [],
   "source": [
    "test.drop('id', axis=1, inplace=True)"
   ]
  },
  {
   "cell_type": "code",
   "execution_count": 148,
   "metadata": {},
   "outputs": [
    {
     "data": {
      "text/html": [
       "<div>\n",
       "<style>\n",
       "    .dataframe thead tr:only-child th {\n",
       "        text-align: right;\n",
       "    }\n",
       "\n",
       "    .dataframe thead th {\n",
       "        text-align: left;\n",
       "    }\n",
       "\n",
       "    .dataframe tbody tr th {\n",
       "        vertical-align: top;\n",
       "    }\n",
       "</style>\n",
       "<table border=\"1\" class=\"dataframe\">\n",
       "  <thead>\n",
       "    <tr style=\"text-align: right;\">\n",
       "      <th></th>\n",
       "      <th>text</th>\n",
       "    </tr>\n",
       "  </thead>\n",
       "  <tbody>\n",
       "    <tr>\n",
       "      <th>0</th>\n",
       "      <td>Ужасно слабый аккумулятор, это основной минус ...</td>\n",
       "    </tr>\n",
       "    <tr>\n",
       "      <th>1</th>\n",
       "      <td>ценанадежность-неубиваемостьдолго держит батар...</td>\n",
       "    </tr>\n",
       "    <tr>\n",
       "      <th>2</th>\n",
       "      <td>подробнее в комментариях\\nК сожалению, факт по...</td>\n",
       "    </tr>\n",
       "    <tr>\n",
       "      <th>3</th>\n",
       "      <td>я любительница громкой музыки. Тише телефона у...</td>\n",
       "    </tr>\n",
       "    <tr>\n",
       "      <th>4</th>\n",
       "      <td>Дата выпуска - 2011 г, емкость - 1430 mAh, тех...</td>\n",
       "    </tr>\n",
       "  </tbody>\n",
       "</table>\n",
       "</div>"
      ],
      "text/plain": [
       "                                                text\n",
       "0  Ужасно слабый аккумулятор, это основной минус ...\n",
       "1  ценанадежность-неубиваемостьдолго держит батар...\n",
       "2  подробнее в комментариях\\nК сожалению, факт по...\n",
       "3  я любительница громкой музыки. Тише телефона у...\n",
       "4  Дата выпуска - 2011 г, емкость - 1430 mAh, тех..."
      ]
     },
     "execution_count": 148,
     "metadata": {},
     "output_type": "execute_result"
    }
   ],
   "source": [
    "test.head()"
   ]
  },
  {
   "cell_type": "markdown",
   "metadata": {},
   "source": [
    "### Обучение модели\n",
    "\n",
    "Для начала используем уже имеющуюся модель с прошлого соревнования (3 неделя курса), которая показала хороший результат."
   ]
  },
  {
   "cell_type": "code",
   "execution_count": 150,
   "metadata": {},
   "outputs": [
    {
     "name": "stdout",
     "output_type": "stream",
     "text": [
      "\tclf__alpha: 1e-05\n",
      "\tclf__n_iter: 80\n",
      "\tclf__penalty: 'l2'\n",
      "\ttr__norm: 'l2'\n",
      "\tvct__max_df: 0.5\n",
      "\tvct__ngram_range: (1, 3)\n",
      "Best score: 0.8775507898052741\n",
      "CPU times: user 10.3 s, sys: 364 ms, total: 10.6 s\n",
      "Wall time: 1min 17s\n"
     ]
    }
   ],
   "source": [
    "%%time\n",
    "tv, clf = TfidfVectorizer(sublinear_tf=True), SGDClassifier(random_state=113)\n",
    "trf = TfidfTransformer()\n",
    "\n",
    "pipe = Pipeline(steps = [\n",
    "        ('vct', tv),\n",
    "        ('tr', trf),\n",
    "        ('clf', clf)\n",
    "    ])\n",
    "# расчет занимает время, потому просто оставил оптимальные параметры\n",
    "parameters = {\n",
    "        'vct__max_df': (0.5,),\n",
    "        'vct__ngram_range': ((1, 3),),\n",
    "        'tr__norm': ('l2',),\n",
    "        'clf__alpha': (1e-05,),\n",
    "        'clf__penalty': ('l2',),\n",
    "        'clf__n_iter': (80, )\n",
    "}\n",
    "\n",
    "gs = GridSearchCV(pipe, parameters, scoring='accuracy', refit=True, n_jobs=-1, iid=False, cv=10)\n",
    "gs.fit(train.text, train.rate)\n",
    "\n",
    "best_params = gs.best_estimator_.get_params()\n",
    "for param_name in sorted(parameters.keys()):\n",
    "        print(\"\\t%s: %r\" % (param_name, best_params[param_name]))\n",
    "        \n",
    "print(\"Best score: {}\".format(gs.best_score_))"
   ]
  },
  {
   "cell_type": "markdown",
   "metadata": {},
   "source": [
    " Что интересно, на представленных данных модель показывает куда лучший результат, 0.87, против 0.79 на тестовой выборке из прошлого задания."
   ]
  },
  {
   "cell_type": "code",
   "execution_count": 151,
   "metadata": {
    "collapsed": true
   },
   "outputs": [],
   "source": [
    "predct = gs.predict(test.text.values)"
   ]
  },
  {
   "cell_type": "code",
   "execution_count": 157,
   "metadata": {},
   "outputs": [
    {
     "name": "stdout",
     "output_type": "stream",
     "text": [
      "Id,y\r\n",
      "0,neg\r\n",
      "1,neg\r\n"
     ]
    }
   ],
   "source": [
    "%cat data/sample_submission.csv | head -3 # submission format"
   ]
  },
  {
   "cell_type": "code",
   "execution_count": 158,
   "metadata": {
    "collapsed": true
   },
   "outputs": [],
   "source": [
    "result = {}\n",
    "for indx, elm in enumerate(predct):\n",
    "    result[indx] = elm"
   ]
  },
  {
   "cell_type": "code",
   "execution_count": 160,
   "metadata": {},
   "outputs": [],
   "source": [
    "subm = pd.Series(result, name='y')\n",
    "subm.index.name = 'Id'\n",
    "subm = subm.reset_index()"
   ]
  },
  {
   "cell_type": "code",
   "execution_count": 161,
   "metadata": {},
   "outputs": [
    {
     "data": {
      "text/html": [
       "<div>\n",
       "<style>\n",
       "    .dataframe thead tr:only-child th {\n",
       "        text-align: right;\n",
       "    }\n",
       "\n",
       "    .dataframe thead th {\n",
       "        text-align: left;\n",
       "    }\n",
       "\n",
       "    .dataframe tbody tr th {\n",
       "        vertical-align: top;\n",
       "    }\n",
       "</style>\n",
       "<table border=\"1\" class=\"dataframe\">\n",
       "  <thead>\n",
       "    <tr style=\"text-align: right;\">\n",
       "      <th></th>\n",
       "      <th>Id</th>\n",
       "      <th>y</th>\n",
       "    </tr>\n",
       "  </thead>\n",
       "  <tbody>\n",
       "    <tr>\n",
       "      <th>0</th>\n",
       "      <td>0</td>\n",
       "      <td>0</td>\n",
       "    </tr>\n",
       "    <tr>\n",
       "      <th>1</th>\n",
       "      <td>1</td>\n",
       "      <td>1</td>\n",
       "    </tr>\n",
       "    <tr>\n",
       "      <th>2</th>\n",
       "      <td>2</td>\n",
       "      <td>0</td>\n",
       "    </tr>\n",
       "    <tr>\n",
       "      <th>3</th>\n",
       "      <td>3</td>\n",
       "      <td>0</td>\n",
       "    </tr>\n",
       "    <tr>\n",
       "      <th>4</th>\n",
       "      <td>4</td>\n",
       "      <td>1</td>\n",
       "    </tr>\n",
       "  </tbody>\n",
       "</table>\n",
       "</div>"
      ],
      "text/plain": [
       "   Id  y\n",
       "0   0  0\n",
       "1   1  1\n",
       "2   2  0\n",
       "3   3  0\n",
       "4   4  1"
      ]
     },
     "execution_count": 161,
     "metadata": {},
     "output_type": "execute_result"
    }
   ],
   "source": [
    "subm.head()"
   ]
  },
  {
   "cell_type": "code",
   "execution_count": 163,
   "metadata": {
    "collapsed": true
   },
   "outputs": [],
   "source": [
    "subm.loc[subm['y'] == 0, 'y'] = 'neg'\n",
    "subm.loc[subm['y'] == 1, 'y'] = 'pos'"
   ]
  },
  {
   "cell_type": "code",
   "execution_count": 164,
   "metadata": {},
   "outputs": [
    {
     "data": {
      "text/html": [
       "<div>\n",
       "<style>\n",
       "    .dataframe thead tr:only-child th {\n",
       "        text-align: right;\n",
       "    }\n",
       "\n",
       "    .dataframe thead th {\n",
       "        text-align: left;\n",
       "    }\n",
       "\n",
       "    .dataframe tbody tr th {\n",
       "        vertical-align: top;\n",
       "    }\n",
       "</style>\n",
       "<table border=\"1\" class=\"dataframe\">\n",
       "  <thead>\n",
       "    <tr style=\"text-align: right;\">\n",
       "      <th></th>\n",
       "      <th>Id</th>\n",
       "      <th>y</th>\n",
       "    </tr>\n",
       "  </thead>\n",
       "  <tbody>\n",
       "    <tr>\n",
       "      <th>0</th>\n",
       "      <td>0</td>\n",
       "      <td>neg</td>\n",
       "    </tr>\n",
       "    <tr>\n",
       "      <th>1</th>\n",
       "      <td>1</td>\n",
       "      <td>pos</td>\n",
       "    </tr>\n",
       "    <tr>\n",
       "      <th>2</th>\n",
       "      <td>2</td>\n",
       "      <td>neg</td>\n",
       "    </tr>\n",
       "    <tr>\n",
       "      <th>3</th>\n",
       "      <td>3</td>\n",
       "      <td>neg</td>\n",
       "    </tr>\n",
       "    <tr>\n",
       "      <th>4</th>\n",
       "      <td>4</td>\n",
       "      <td>pos</td>\n",
       "    </tr>\n",
       "  </tbody>\n",
       "</table>\n",
       "</div>"
      ],
      "text/plain": [
       "   Id    y\n",
       "0   0  neg\n",
       "1   1  pos\n",
       "2   2  neg\n",
       "3   3  neg\n",
       "4   4  pos"
      ]
     },
     "execution_count": 164,
     "metadata": {},
     "output_type": "execute_result"
    }
   ],
   "source": [
    "subm.head()"
   ]
  },
  {
   "cell_type": "code",
   "execution_count": 165,
   "metadata": {
    "collapsed": true
   },
   "outputs": [],
   "source": [
    "subm.to_csv('sentiment_result.csv', sep=',', encoding='utf-8', index=False) # запишем модель в файл"
   ]
  },
  {
   "cell_type": "code",
   "execution_count": 167,
   "metadata": {},
   "outputs": [
    {
     "name": "stdout",
     "output_type": "stream",
     "text": [
      "Id,y\r\n",
      "0,neg\r\n",
      "1,pos\r\n"
     ]
    }
   ],
   "source": [
    "%cat sentiment_result.csv | head -3 # result"
   ]
  },
  {
   "cell_type": "markdown",
   "metadata": {},
   "source": [
    "В результате имеем довольно хорошую модель.\n",
    "\n",
    "![title](img/result.png)\n",
    "\n",
    "Но в данном соревновании она не обеспечивает лидирующих мест, поскольку людям удалось добиться 100% точности."
   ]
  },
  {
   "cell_type": "code",
   "execution_count": 168,
   "metadata": {},
   "outputs": [
    {
     "name": "stdout",
     "output_type": "stream",
     "text": [
      "\tclf__C: 1\n",
      "\tnrm__norm: 'l2'\n",
      "\tvct__max_df: 0.5\n",
      "\tvct__ngram_range: (1, 3)\n",
      "Best score: 0.8784418529316489\n",
      "CPU times: user 1min 36s, sys: 1.89 s, total: 1min 38s\n",
      "Wall time: 1min 45s\n"
     ]
    }
   ],
   "source": [
    "%%time\n",
    "from sklearn.preprocessing import Normalizer\n",
    "from sklearn.svm import LinearSVC\n",
    "\n",
    "pipe = Pipeline(steps = [\n",
    "        ('vct', TfidfVectorizer()),\n",
    "        ('nrm', Normalizer(copy=False)),\n",
    "        ('clf', LinearSVC(class_weight='balanced', penalty='l2')),\n",
    "    ])\n",
    "\n",
    "parameters = {\n",
    "        'vct__max_df': (.5,),\n",
    "        'vct__ngram_range': ((1, 3),),\n",
    "        'nrm__norm': ('l2',),\n",
    "        'clf__C': (1,),\n",
    "}\n",
    "\n",
    "gs = GridSearchCV(pipe, parameters, scoring='accuracy', cv=10)\n",
    "gs.fit(train.text, train.rate)\n",
    "\n",
    "best_params = gs.best_estimator_.get_params()\n",
    "for param_name in sorted(parameters.keys()):\n",
    "        print(\"\\t%s: %r\" % (param_name, best_params[param_name]))\n",
    "        \n",
    "print(\"Best score: {}\".format(gs.best_score_))"
   ]
  },
  {
   "cell_type": "code",
   "execution_count": 171,
   "metadata": {
    "collapsed": true
   },
   "outputs": [],
   "source": [
    "predct = gs.predict(test.text.values)\n",
    "\n",
    "result = {}\n",
    "for indx, elm in enumerate(predct):\n",
    "    result[indx] = elm\n",
    "    \n",
    "subm = pd.Series(result, name='y')\n",
    "subm.index.name = 'Id'\n",
    "subm = subm.reset_index()\n",
    "\n",
    "subm.loc[subm['y'] == 0, 'y'] = 'neg'\n",
    "subm.loc[subm['y'] == 1, 'y'] = 'pos'\n",
    "\n",
    "subm.to_csv('sentiment_result_SVC.csv', sep=',', encoding='utf-8', index=False)"
   ]
  },
  {
   "cell_type": "markdown",
   "metadata": {},
   "source": [
    "Использование метода опорных векторов дало только ухудшение результата до 96% на чем и остановимся."
   ]
  },
  {
   "cell_type": "markdown",
   "metadata": {},
   "source": [
    "# Вывод"
   ]
  },
  {
   "cell_type": "markdown",
   "metadata": {},
   "source": [
    "Baseline модель, которую мы строили на третьей неделе курса с подбором параметров показала лучший результат."
   ]
  },
  {
   "cell_type": "code",
   "execution_count": null,
   "metadata": {
    "collapsed": true
   },
   "outputs": [],
   "source": []
  }
 ],
 "metadata": {
  "kernelspec": {
   "display_name": "Python 3",
   "language": "python",
   "name": "python3"
  },
  "language_info": {
   "codemirror_mode": {
    "name": "ipython",
    "version": 3
   },
   "file_extension": ".py",
   "mimetype": "text/x-python",
   "name": "python",
   "nbconvert_exporter": "python",
   "pygments_lexer": "ipython3",
   "version": "3.6.1+"
  }
 },
 "nbformat": 4,
 "nbformat_minor": 2
}
