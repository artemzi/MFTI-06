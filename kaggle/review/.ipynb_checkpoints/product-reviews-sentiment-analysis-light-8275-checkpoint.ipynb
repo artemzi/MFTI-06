{
 "cells": [
  {
   "cell_type": "markdown",
   "metadata": {},
   "source": [
    "# Peer-graded Assignment: Соревнование по сентимент-анализу\n",
    "## Instructions\n",
    "\n",
    "В этом задании вам нужно воспользоваться опытом предыдущих недель, чтобы побить бейзлайн в соревновании по сентимент-анализу отзывов на товары на Kaggle Inclass:\n",
    "\n",
    "https://inclass.kaggle.com/c/product-reviews-sentiment-analysis-light\n",
    "\n",
    "## Классифицируйте отзывы по тональности\n",
    "* В этом соревновании вам предстоит прогнозировать по тексту отзыва его тональность: 1 - позитивная, 0 - негативная. В отличие от усложненной версии задачи, здесь вам не требуется самостоятельно собирать обучающую выборку - она есть в предоставляемых вам данных.\n",
    "* **Evaluation**: В качестве метрики качества используется accuracy. При валидации качества не забывайте, что ваш результат точно должен быть лучше, чем тривиальные ответы (всегда 0, всегда 1, случайный выбор класса).\n",
    "* В обучающей выборке на каждой строчке дано по одному тексту с классом (0 или 1), записанным через символ табуляции после текста.\n"
   ]
  },
  {
   "cell_type": "code",
   "execution_count": 32,
   "metadata": {
    "collapsed": true
   },
   "outputs": [],
   "source": [
    " # отключим предупреждения\n",
    "import warnings\n",
    "warnings.filterwarnings('ignore')\n",
    "\n",
    "import pandas as pd\n",
    "import numpy as np\n",
    "\n",
    "from sklearn.feature_extraction.text import CountVectorizer, TfidfVectorizer\n",
    "from sklearn.linear_model import LogisticRegression\n",
    "from sklearn.svm import LinearSVC\n",
    "from sklearn.model_selection import cross_val_score, train_test_split\n",
    "from sklearn.pipeline import Pipeline, FeatureUnion\n",
    "from sklearn.metrics import classification_report\n",
    "\n",
    "from nltk import word_tokenize  \n",
    "from nltk.stem.snowball import PorterStemmer"
   ]
  },
  {
   "cell_type": "code",
   "execution_count": 16,
   "metadata": {},
   "outputs": [
    {
     "name": "stdout",
     "output_type": "stream",
     "text": [
      "Количество размеченных отзывов: 2000\n",
      "Количество позитивных отзывов: 1274 (63.7%)\n",
      "Количество тестовых отзывов: 500\n"
     ]
    },
    {
     "data": {
      "text/html": [
       "<div>\n",
       "<table border=\"1\" class=\"dataframe\">\n",
       "  <thead>\n",
       "    <tr style=\"text-align: right;\">\n",
       "      <th></th>\n",
       "      <th>text</th>\n",
       "      <th>y</th>\n",
       "    </tr>\n",
       "  </thead>\n",
       "  <tbody>\n",
       "    <tr>\n",
       "      <th>0</th>\n",
       "      <td>2 . take around 10,000 640x480 pictures .</td>\n",
       "      <td>1</td>\n",
       "    </tr>\n",
       "    <tr>\n",
       "      <th>1</th>\n",
       "      <td>i downloaded a trial version of computer associates ez firewall and antivirus and fell in love with a computer security system all over again .</td>\n",
       "      <td>1</td>\n",
       "    </tr>\n",
       "    <tr>\n",
       "      <th>2</th>\n",
       "      <td>the wrt54g plus the hga7t is a perfect solution if you need wireless coverage in a wider area or for a hard-walled house as was my case .</td>\n",
       "      <td>1</td>\n",
       "    </tr>\n",
       "    <tr>\n",
       "      <th>3</th>\n",
       "      <td>i dont especially like how music files are unstructured ; basically they are just dumped into one folder with no organization , like you might have in windows explorer folders and subfolders .</td>\n",
       "      <td>0</td>\n",
       "    </tr>\n",
       "    <tr>\n",
       "      <th>4</th>\n",
       "      <td>i was using the cheapie pail ... and it worked ok until the opening device fell apart .</td>\n",
       "      <td>1</td>\n",
       "    </tr>\n",
       "  </tbody>\n",
       "</table>\n",
       "</div>"
      ],
      "text/plain": [
       "                                                                                                                                                                                               text  \\\n",
       "0                                                                                                                                                         2 . take around 10,000 640x480 pictures .   \n",
       "1                                                   i downloaded a trial version of computer associates ez firewall and antivirus and fell in love with a computer security system all over again .   \n",
       "2                                                         the wrt54g plus the hga7t is a perfect solution if you need wireless coverage in a wider area or for a hard-walled house as was my case .   \n",
       "3  i dont especially like how music files are unstructured ; basically they are just dumped into one folder with no organization , like you might have in windows explorer folders and subfolders .   \n",
       "4                                                                                                           i was using the cheapie pail ... and it worked ok until the opening device fell apart .   \n",
       "\n",
       "   y  \n",
       "0  1  \n",
       "1  1  \n",
       "2  1  \n",
       "3  0  \n",
       "4  1  "
      ]
     },
     "execution_count": 16,
     "metadata": {},
     "output_type": "execute_result"
    }
   ],
   "source": [
    "# Загружаем данные\n",
    "train = pd.read_csv('products_sentiment_train.tsv', sep = '\\t', header = None, names = ['text', 'y'])\n",
    "test = pd.read_csv('products_sentiment_test.tsv', sep = '\\t')\n",
    "\n",
    "print \"Количество размеченных отзывов: %d\" % (train.shape[0])\n",
    "print \"Количество позитивных отзывов: %d (%0.1f%%)\" % (train.y.sum(), 100.*train.y.mean())\n",
    "print \"Количество тестовых отзывов: %d\" % (test.shape[0])\n",
    "\n",
    "# Пример нескольких отзывов\n",
    "pd.set_option('max_colwidth', 300)\n",
    "train.head()"
   ]
  },
  {
   "cell_type": "code",
   "execution_count": 56,
   "metadata": {
    "collapsed": true
   },
   "outputs": [],
   "source": [
    "# Создадим вспомогательных аналайзер на основе стеммера Портера\n",
    "stemmer = PorterStemmer()\n",
    "analyzer = TfidfVectorizer().build_analyzer()\n",
    "\n",
    "def stemmed(text):\n",
    "    return (stemmer.stem(word) for word in analyzer(proprocess(text))"
   ]
  },
  {
   "cell_type": "code",
   "execution_count": 99,
   "metadata": {
    "collapsed": true
   },
   "outputs": [],
   "source": [
    "# Заменим 't на not\n",
    "def preprocess(text):\n",
    "    return text.replace(\" 't\", \" not\")\n",
    "\n",
    "train['x'] = train.text.apply(preprocess)\n",
    "test['x'] = test.text.apply(preprocess)"
   ]
  },
  {
   "cell_type": "code",
   "execution_count": 101,
   "metadata": {},
   "outputs": [
    {
     "name": "stdout",
     "output_type": "stream",
     "text": [
      "Средняя точность: 79.25%\n",
      "Среднеквадратичное отклонение: 0.0078\n"
     ]
    }
   ],
   "source": [
    "# Объединим векторизованные фичи разных типов токенов\n",
    "union = FeatureUnion([(\"word11\", TfidfVectorizer(ngram_range=(1,1), analyzer='word')),\n",
    "                      (\"stem11\", TfidfVectorizer(ngram_range=(1,1), analyzer=stemmed)),\n",
    "                      (\"word23\", TfidfVectorizer(ngram_range=(2,3), analyzer='word')),\n",
    "                      (\"stem23\", TfidfVectorizer(ngram_range=(2,3), analyzer=stemmed)),\n",
    "                      (\"char14\", TfidfVectorizer(ngram_range=(1,4), analyzer='char'))])\n",
    "\n",
    "# Объединим в Pipeline с линейной регрессией в качестве классификатора\n",
    "pipe = Pipeline([(\"vectorizer\", union),\n",
    "                 (\"classifier\", LogisticRegression(penalty = 'l2'))])\n",
    "\n",
    "# Расчитаем точность по кроссвалидации\n",
    "scores = cross_val_score(pipe, train.x, train.y, cv = 5)\n",
    "\n",
    "print \"Средняя точность: %0.2f%%\" % (100.*scores.mean())\n",
    "print \"Среднеквадратичное отклонение: %0.4f\" % scores.std()\n"
   ]
  },
  {
   "cell_type": "code",
   "execution_count": 102,
   "metadata": {},
   "outputs": [
    {
     "name": "stdout",
     "output_type": "stream",
     "text": [
      "             precision    recall  f1-score   support\n",
      "\n",
      "          0       0.76      0.59      0.66       149\n",
      "          1       0.79      0.89      0.83       251\n",
      "\n",
      "avg / total       0.78      0.78      0.77       400\n",
      "\n"
     ]
    }
   ],
   "source": [
    "# Посмотрим на ошибки\n",
    "X_train, X_test, y_train, y_test = train_test_split(train.x, train.y, test_size=0.2, random_state=0)\n",
    "pipe.fit(X_train, y_train)\n",
    "\n",
    "y_pred = pipe.predict(X_test)\n",
    "p_test = pipe.predict_proba(X_test)\n",
    "check = pd.DataFrame(X_test)\n",
    "check['y'] = y_test\n",
    "check['y_pred'] = y_pred\n",
    "check['p0'] = p_test[:,0]\n",
    "check['p1'] = p_test[:,1]\n",
    "\n",
    "#check.head()\n",
    "print(classification_report(y_test, y_pred))"
   ]
  },
  {
   "cell_type": "code",
   "execution_count": 104,
   "metadata": {},
   "outputs": [
    {
     "name": "stdout",
     "output_type": "stream",
     "text": [
      "Id,y\r\n",
      "0,1\r\n",
      "1,0\r\n",
      "2,1\r\n",
      "3,1\r\n"
     ]
    }
   ],
   "source": [
    "# Обучим классификатор на всех размененных данных\n",
    "pipe.fit(train.x, train.y)\n",
    "test['y'] = pipe.predict(test.x)\n",
    "\n",
    "# Запишем в файл решение для загрузки на Kaggle\n",
    "test[['Id','y']].to_csv('product-reviews-sentiment-analysis-light.csv', index = False)\n",
    "\n",
    "# Проверим, что записалось корректно\n",
    "! head -5 product-reviews-sentiment-analysis-light.csv"
   ]
  },
  {
   "cell_type": "markdown",
   "metadata": {},
   "source": [
    "# Результат:\n",
    "После загрузки на Kaggle этот классификатор дает точность: 82.75%"
   ]
  },
  {
   "cell_type": "code",
   "execution_count": null,
   "metadata": {
    "collapsed": true
   },
   "outputs": [],
   "source": []
  }
 ],
 "metadata": {
  "kernelspec": {
   "display_name": "Python 3",
   "language": "python",
   "name": "python3"
  },
  "language_info": {
   "codemirror_mode": {
    "name": "ipython",
    "version": 3
   },
   "file_extension": ".py",
   "mimetype": "text/x-python",
   "name": "python",
   "nbconvert_exporter": "python",
   "pygments_lexer": "ipython3",
   "version": "3.6.1+"
  }
 },
 "nbformat": 4,
 "nbformat_minor": 2
}
