{
 "cells": [
  {
   "cell_type": "markdown",
   "metadata": {},
   "source": [
    "Импортируем необходимые модули"
   ]
  },
  {
   "cell_type": "code",
   "execution_count": 1,
   "metadata": {
    "collapsed": true
   },
   "outputs": [],
   "source": [
    "import pandas as pd\n",
    "from sklearn.feature_extraction.text import TfidfTransformer, CountVectorizer, TfidfVectorizer\n",
    "from sklearn.linear_model import LogisticRegression, SGDClassifier, RidgeClassifier, RidgeClassifierCV, RidgeCV \n",
    "from sklearn.model_selection import cross_val_score\n",
    "from sklearn.pipeline import Pipeline\n",
    "from sklearn.svm import LinearSVC\n",
    "from sklearn.ensemble import RandomForestClassifier\n",
    "from sklearn.decomposition import NMF, TruncatedSVD"
   ]
  },
  {
   "cell_type": "markdown",
   "metadata": {},
   "source": [
    "Считываем обучающую выборку"
   ]
  },
  {
   "cell_type": "code",
   "execution_count": 2,
   "metadata": {
    "collapsed": false
   },
   "outputs": [],
   "source": [
    "sentiments_data = pd.read_csv('products_sentiment_train.tsv',delimiter='\\t',header=None)"
   ]
  },
  {
   "cell_type": "code",
   "execution_count": 3,
   "metadata": {
    "collapsed": false
   },
   "outputs": [
    {
     "data": {
      "text/html": [
       "<div>\n",
       "<table border=\"1\" class=\"dataframe\">\n",
       "  <thead>\n",
       "    <tr style=\"text-align: right;\">\n",
       "      <th></th>\n",
       "      <th>0</th>\n",
       "      <th>1</th>\n",
       "    </tr>\n",
       "  </thead>\n",
       "  <tbody>\n",
       "    <tr>\n",
       "      <th>0</th>\n",
       "      <td>2 . take around 10,000 640x480 pictures .</td>\n",
       "      <td>1</td>\n",
       "    </tr>\n",
       "    <tr>\n",
       "      <th>1</th>\n",
       "      <td>i downloaded a trial version of computer assoc...</td>\n",
       "      <td>1</td>\n",
       "    </tr>\n",
       "    <tr>\n",
       "      <th>2</th>\n",
       "      <td>the wrt54g plus the hga7t is a perfect solutio...</td>\n",
       "      <td>1</td>\n",
       "    </tr>\n",
       "    <tr>\n",
       "      <th>3</th>\n",
       "      <td>i dont especially like how music files are uns...</td>\n",
       "      <td>0</td>\n",
       "    </tr>\n",
       "    <tr>\n",
       "      <th>4</th>\n",
       "      <td>i was using the cheapie pail ... and it worked...</td>\n",
       "      <td>1</td>\n",
       "    </tr>\n",
       "  </tbody>\n",
       "</table>\n",
       "</div>"
      ],
      "text/plain": [
       "                                                   0  1\n",
       "0          2 . take around 10,000 640x480 pictures .  1\n",
       "1  i downloaded a trial version of computer assoc...  1\n",
       "2  the wrt54g plus the hga7t is a perfect solutio...  1\n",
       "3  i dont especially like how music files are uns...  0\n",
       "4  i was using the cheapie pail ... and it worked...  1"
      ]
     },
     "execution_count": 3,
     "metadata": {},
     "output_type": "execute_result"
    }
   ],
   "source": [
    "sentiments_data.head()"
   ]
  },
  {
   "cell_type": "code",
   "execution_count": 4,
   "metadata": {
    "collapsed": true
   },
   "outputs": [],
   "source": [
    "texts = sentiments_data[0]\n",
    "labels = sentiments_data[1]"
   ]
  },
  {
   "cell_type": "markdown",
   "metadata": {
    "collapsed": false
   },
   "source": [
    "Описываем функции для создания пайплайнов. Одну с трансформером, вторую без"
   ]
  },
  {
   "cell_type": "code",
   "execution_count": 5,
   "metadata": {
    "collapsed": false
   },
   "outputs": [],
   "source": [
    "def text_classifier(vectorizer, classifier):\n",
    "    return Pipeline(\n",
    "            [(\"vectorizer\", vectorizer),\n",
    "            (\"classifier\", classifier)]\n",
    "        )"
   ]
  },
  {
   "cell_type": "code",
   "execution_count": 6,
   "metadata": {
    "collapsed": false
   },
   "outputs": [],
   "source": [
    "def text_classifier2(vectorizer, transformer, classifier):\n",
    "    return Pipeline(\n",
    "            [(\"vectorizer\", vectorizer),\n",
    "            (\"transformer\", transformer),\n",
    "            (\"classifier\", classifier)]\n",
    "    )"
   ]
  },
  {
   "cell_type": "markdown",
   "metadata": {},
   "source": [
    "Для начала узнаем качество самой простой модели:"
   ]
  },
  {
   "cell_type": "code",
   "execution_count": 7,
   "metadata": {
    "collapsed": false
   },
   "outputs": [
    {
     "name": "stdout",
     "output_type": "stream",
     "text": [
      "0.774007140574\n"
     ]
    }
   ],
   "source": [
    "print cross_val_score(text_classifier(CountVectorizer(), LogisticRegression()), texts, labels).mean()"
   ]
  },
  {
   "cell_type": "markdown",
   "metadata": {
    "collapsed": false
   },
   "source": [
    "Оценим качество работы разных классификаторов в разных комбинациях"
   ]
  },
  {
   "cell_type": "markdown",
   "metadata": {
    "collapsed": false
   },
   "source": [
    "Сначала без трансформирования"
   ]
  },
  {
   "cell_type": "code",
   "execution_count": 8,
   "metadata": {
    "collapsed": false
   },
   "outputs": [
    {
     "name": "stdout",
     "output_type": "stream",
     "text": [
      "<class 'sklearn.feature_extraction.text.CountVectorizer'>\n",
      "<class 'sklearn.linear_model.logistic.LogisticRegression'>\n",
      "0.774007140574\n",
      "\n",
      "\n",
      "<class 'sklearn.feature_extraction.text.CountVectorizer'>\n",
      "<class 'sklearn.linear_model.stochastic_gradient.SGDClassifier'>\n",
      "0.746505125815\n",
      "\n",
      "\n",
      "<class 'sklearn.feature_extraction.text.CountVectorizer'>\n",
      "<class 'sklearn.linear_model.ridge.RidgeClassifier'>\n",
      "0.748002875439\n",
      "\n",
      "\n",
      "<class 'sklearn.feature_extraction.text.CountVectorizer'>\n",
      "<class 'sklearn.linear_model.ridge.RidgeClassifierCV'>\n",
      "0.758008383196\n",
      "\n",
      "\n",
      "<class 'sklearn.feature_extraction.text.CountVectorizer'>\n",
      "<class 'sklearn.linear_model.ridge.RidgeCV'>\n",
      "0.277937728213\n",
      "\n",
      "\n",
      "<class 'sklearn.feature_extraction.text.CountVectorizer'>\n",
      "<class 'sklearn.svm.classes.LinearSVC'>\n",
      "0.750507629068\n",
      "\n",
      "\n",
      "<class 'sklearn.feature_extraction.text.CountVectorizer'>\n",
      "<class 'sklearn.ensemble.forest.RandomForestClassifier'>\n",
      "0.70351160756\n",
      "\n",
      "\n",
      "<class 'sklearn.feature_extraction.text.TfidfVectorizer'>\n",
      "<class 'sklearn.linear_model.logistic.LogisticRegression'>\n",
      "0.757505631569\n",
      "\n",
      "\n",
      "<class 'sklearn.feature_extraction.text.TfidfVectorizer'>\n",
      "<class 'sklearn.linear_model.stochastic_gradient.SGDClassifier'>\n",
      "0.758003130567\n",
      "\n",
      "\n",
      "<class 'sklearn.feature_extraction.text.TfidfVectorizer'>\n",
      "<class 'sklearn.linear_model.ridge.RidgeClassifier'>\n",
      "0.773000886944\n",
      "\n",
      "\n",
      "<class 'sklearn.feature_extraction.text.TfidfVectorizer'>\n",
      "<class 'sklearn.linear_model.ridge.RidgeClassifierCV'>\n",
      "0.766503384944\n",
      "\n",
      "\n",
      "<class 'sklearn.feature_extraction.text.TfidfVectorizer'>\n",
      "<class 'sklearn.linear_model.ridge.RidgeCV'>\n",
      "0.316552879741\n",
      "\n",
      "\n",
      "<class 'sklearn.feature_extraction.text.TfidfVectorizer'>\n",
      "<class 'sklearn.svm.classes.LinearSVC'>\n",
      "0.768500134317\n",
      "\n",
      "\n",
      "<class 'sklearn.feature_extraction.text.TfidfVectorizer'>\n",
      "<class 'sklearn.ensemble.forest.RandomForestClassifier'>\n",
      "0.711500105803\n",
      "\n",
      "\n"
     ]
    }
   ],
   "source": [
    "for vctr in [CountVectorizer, TfidfVectorizer]:\n",
    "    for clfr in [LogisticRegression, SGDClassifier, \n",
    "                 RidgeClassifier, RidgeClassifierCV, RidgeCV, LinearSVC, RandomForestClassifier]:\n",
    "        print vctr\n",
    "        print clfr\n",
    "        print cross_val_score(text_classifier(vctr(), clfr()), texts, labels).mean()\n",
    "        print \"\\n\"\n",
    "        "
   ]
  },
  {
   "cell_type": "markdown",
   "metadata": {
    "collapsed": false
   },
   "source": [
    "Как видим, ни одна из комбинаций классификаторов и векторайзеров не смогла улучшить дефолтный результат\n",
    "\n",
    "Теперь попробуем добавить трансформирование:"
   ]
  },
  {
   "cell_type": "code",
   "execution_count": 9,
   "metadata": {
    "collapsed": false
   },
   "outputs": [
    {
     "name": "stdout",
     "output_type": "stream",
     "text": [
      "<class 'sklearn.feature_extraction.text.CountVectorizer'>\n",
      "<class 'sklearn.feature_extraction.text.TfidfTransformer'>\n",
      "<class 'sklearn.linear_model.logistic.LogisticRegression'>\n",
      "0.757505631569\n",
      "\n",
      "\n",
      "<class 'sklearn.feature_extraction.text.CountVectorizer'>\n",
      "<class 'sklearn.feature_extraction.text.TfidfTransformer'>\n",
      "<class 'sklearn.linear_model.stochastic_gradient.SGDClassifier'>\n",
      "0.758502880692\n",
      "\n",
      "\n",
      "<class 'sklearn.feature_extraction.text.CountVectorizer'>\n",
      "<class 'sklearn.feature_extraction.text.TfidfTransformer'>\n",
      "<class 'sklearn.linear_model.ridge.RidgeClassifier'>\n",
      "0.772000636318\n",
      "\n",
      "\n",
      "<class 'sklearn.feature_extraction.text.CountVectorizer'>\n",
      "<class 'sklearn.feature_extraction.text.TfidfTransformer'>\n",
      "<class 'sklearn.linear_model.ridge.RidgeClassifierCV'>\n",
      "0.766503384944\n",
      "\n",
      "\n",
      "<class 'sklearn.feature_extraction.text.CountVectorizer'>\n",
      "<class 'sklearn.feature_extraction.text.TfidfTransformer'>\n",
      "<class 'sklearn.linear_model.ridge.RidgeCV'>\n",
      "0.316552879741\n",
      "\n",
      "\n",
      "<class 'sklearn.feature_extraction.text.CountVectorizer'>\n",
      "<class 'sklearn.feature_extraction.text.TfidfTransformer'>\n",
      "<class 'sklearn.svm.classes.LinearSVC'>\n",
      "0.768500134317\n",
      "\n",
      "\n",
      "<class 'sklearn.feature_extraction.text.CountVectorizer'>\n",
      "<class 'sklearn.feature_extraction.text.TfidfTransformer'>\n",
      "<class 'sklearn.ensemble.forest.RandomForestClassifier'>\n",
      "0.715499607554\n",
      "\n",
      "\n",
      "<class 'sklearn.feature_extraction.text.CountVectorizer'>\n",
      "<class 'sklearn.decomposition.truncated_svd.TruncatedSVD'>\n",
      "<class 'sklearn.linear_model.logistic.LogisticRegression'>\n",
      "0.635999567784\n",
      "\n",
      "\n",
      "<class 'sklearn.feature_extraction.text.CountVectorizer'>\n",
      "<class 'sklearn.decomposition.truncated_svd.TruncatedSVD'>\n",
      "<class 'sklearn.linear_model.stochastic_gradient.SGDClassifier'>\n",
      "0.504519512016\n",
      "\n",
      "\n",
      "<class 'sklearn.feature_extraction.text.CountVectorizer'>\n",
      "<class 'sklearn.decomposition.truncated_svd.TruncatedSVD'>\n",
      "<class 'sklearn.linear_model.ridge.RidgeClassifier'>\n",
      "0.635999567784\n",
      "\n",
      "\n",
      "<class 'sklearn.feature_extraction.text.CountVectorizer'>\n",
      "<class 'sklearn.decomposition.truncated_svd.TruncatedSVD'>\n",
      "<class 'sklearn.linear_model.ridge.RidgeClassifierCV'>\n",
      "0.635999567784\n",
      "\n",
      "\n",
      "<class 'sklearn.feature_extraction.text.CountVectorizer'>\n",
      "<class 'sklearn.decomposition.truncated_svd.TruncatedSVD'>\n",
      "<class 'sklearn.linear_model.ridge.RidgeCV'>\n",
      "0.00190497975988\n",
      "\n",
      "\n",
      "<class 'sklearn.feature_extraction.text.CountVectorizer'>\n",
      "<class 'sklearn.decomposition.truncated_svd.TruncatedSVD'>\n",
      "<class 'sklearn.svm.classes.LinearSVC'>\n",
      "0.635999567784\n",
      "\n",
      "\n",
      "<class 'sklearn.feature_extraction.text.CountVectorizer'>\n",
      "<class 'sklearn.decomposition.truncated_svd.TruncatedSVD'>\n",
      "<class 'sklearn.ensemble.forest.RandomForestClassifier'>\n",
      "0.558990024507\n",
      "\n",
      "\n",
      "<class 'sklearn.feature_extraction.text.TfidfVectorizer'>\n",
      "<class 'sklearn.feature_extraction.text.TfidfTransformer'>\n",
      "<class 'sklearn.linear_model.logistic.LogisticRegression'>\n",
      "0.742006624315\n",
      "\n",
      "\n",
      "<class 'sklearn.feature_extraction.text.TfidfVectorizer'>\n",
      "<class 'sklearn.feature_extraction.text.TfidfTransformer'>\n",
      "<class 'sklearn.linear_model.stochastic_gradient.SGDClassifier'>\n",
      "0.74550487519\n",
      "\n",
      "\n",
      "<class 'sklearn.feature_extraction.text.TfidfVectorizer'>\n",
      "<class 'sklearn.feature_extraction.text.TfidfTransformer'>\n",
      "<class 'sklearn.linear_model.ridge.RidgeClassifier'>\n",
      "0.768997633315\n",
      "\n",
      "\n",
      "<class 'sklearn.feature_extraction.text.TfidfVectorizer'>\n",
      "<class 'sklearn.feature_extraction.text.TfidfTransformer'>\n",
      "<class 'sklearn.linear_model.ridge.RidgeClassifierCV'>\n",
      "0.767500634067\n",
      "\n",
      "\n",
      "<class 'sklearn.feature_extraction.text.TfidfVectorizer'>\n",
      "<class 'sklearn.feature_extraction.text.TfidfTransformer'>\n",
      "<class 'sklearn.linear_model.ridge.RidgeCV'>\n",
      "0.307804483375\n",
      "\n",
      "\n",
      "<class 'sklearn.feature_extraction.text.TfidfVectorizer'>\n",
      "<class 'sklearn.feature_extraction.text.TfidfTransformer'>\n",
      "<class 'sklearn.svm.classes.LinearSVC'>\n",
      "0.761497629564\n",
      "\n",
      "\n",
      "<class 'sklearn.feature_extraction.text.TfidfVectorizer'>\n",
      "<class 'sklearn.feature_extraction.text.TfidfTransformer'>\n",
      "<class 'sklearn.ensemble.forest.RandomForestClassifier'>\n",
      "0.701508104806\n",
      "\n",
      "\n",
      "<class 'sklearn.feature_extraction.text.TfidfVectorizer'>\n",
      "<class 'sklearn.decomposition.truncated_svd.TruncatedSVD'>\n",
      "<class 'sklearn.linear_model.logistic.LogisticRegression'>\n",
      "0.635499817659\n",
      "\n",
      "\n",
      "<class 'sklearn.feature_extraction.text.TfidfVectorizer'>\n",
      "<class 'sklearn.decomposition.truncated_svd.TruncatedSVD'>\n",
      "<class 'sklearn.linear_model.stochastic_gradient.SGDClassifier'>\n",
      "0.637499568534\n",
      "\n",
      "\n",
      "<class 'sklearn.feature_extraction.text.TfidfVectorizer'>\n",
      "<class 'sklearn.decomposition.truncated_svd.TruncatedSVD'>\n",
      "<class 'sklearn.linear_model.ridge.RidgeClassifier'>\n",
      "0.636999068034\n",
      "\n",
      "\n",
      "<class 'sklearn.feature_extraction.text.TfidfVectorizer'>\n",
      "<class 'sklearn.decomposition.truncated_svd.TruncatedSVD'>\n",
      "<class 'sklearn.linear_model.ridge.RidgeClassifierCV'>\n",
      "0.637499568534\n",
      "\n",
      "\n",
      "<class 'sklearn.feature_extraction.text.TfidfVectorizer'>\n",
      "<class 'sklearn.decomposition.truncated_svd.TruncatedSVD'>\n",
      "<class 'sklearn.linear_model.ridge.RidgeCV'>\n",
      "0.0598801700943\n",
      "\n",
      "\n",
      "<class 'sklearn.feature_extraction.text.TfidfVectorizer'>\n",
      "<class 'sklearn.decomposition.truncated_svd.TruncatedSVD'>\n",
      "<class 'sklearn.svm.classes.LinearSVC'>\n",
      "0.640997819409\n",
      "\n",
      "\n",
      "<class 'sklearn.feature_extraction.text.TfidfVectorizer'>\n",
      "<class 'sklearn.decomposition.truncated_svd.TruncatedSVD'>\n",
      "<class 'sklearn.ensemble.forest.RandomForestClassifier'>\n",
      "0.569492280887\n",
      "\n",
      "\n"
     ]
    }
   ],
   "source": [
    "for vctr in [CountVectorizer, TfidfVectorizer]:\n",
    "    for trfr in [TfidfTransformer, TruncatedSVD]:\n",
    "        for clfr in [LogisticRegression, SGDClassifier, \n",
    "                     RidgeClassifier, RidgeClassifierCV, RidgeCV, LinearSVC, RandomForestClassifier]:\n",
    "            print vctr\n",
    "            print trfr\n",
    "            print clfr\n",
    "            print cross_val_score(text_classifier2(vctr(), trfr(), clfr()), texts, labels).mean()\n",
    "            print \"\\n\""
   ]
  },
  {
   "cell_type": "markdown",
   "metadata": {
    "collapsed": false
   },
   "source": [
    "Результаты по-прежнему не лучше дефолтного. Попробуем поиграть параметрами. Ну и выкинем совсем бесполезные классификаторы.\n",
    "\n",
    "Например, исключим стоп-слова:"
   ]
  },
  {
   "cell_type": "code",
   "execution_count": 10,
   "metadata": {
    "collapsed": false
   },
   "outputs": [
    {
     "name": "stdout",
     "output_type": "stream",
     "text": [
      "<class 'sklearn.feature_extraction.text.CountVectorizer'>\n",
      "<class 'sklearn.feature_extraction.text.TfidfTransformer'>\n",
      "<class 'sklearn.linear_model.logistic.LogisticRegression'>\n",
      "0.732501617059\n",
      "\n",
      "\n",
      "<class 'sklearn.feature_extraction.text.CountVectorizer'>\n",
      "<class 'sklearn.feature_extraction.text.TfidfTransformer'>\n",
      "<class 'sklearn.linear_model.stochastic_gradient.SGDClassifier'>\n",
      "0.739010374693\n",
      "\n",
      "\n",
      "<class 'sklearn.feature_extraction.text.CountVectorizer'>\n",
      "<class 'sklearn.feature_extraction.text.TfidfTransformer'>\n",
      "<class 'sklearn.linear_model.ridge.RidgeClassifier'>\n",
      "0.750002626314\n",
      "\n",
      "\n",
      "<class 'sklearn.feature_extraction.text.CountVectorizer'>\n",
      "<class 'sklearn.feature_extraction.text.TfidfTransformer'>\n",
      "<class 'sklearn.linear_model.ridge.RidgeClassifierCV'>\n",
      "0.746503625064\n",
      "\n",
      "\n",
      "<class 'sklearn.feature_extraction.text.CountVectorizer'>\n",
      "<class 'sklearn.feature_extraction.text.TfidfTransformer'>\n",
      "<class 'sklearn.svm.classes.LinearSVC'>\n",
      "0.745502624063\n",
      "\n",
      "\n",
      "<class 'sklearn.feature_extraction.text.CountVectorizer'>\n",
      "<class 'sklearn.decomposition.truncated_svd.TruncatedSVD'>\n",
      "<class 'sklearn.linear_model.logistic.LogisticRegression'>\n",
      "0.635498316908\n",
      "\n",
      "\n",
      "<class 'sklearn.feature_extraction.text.CountVectorizer'>\n",
      "<class 'sklearn.decomposition.truncated_svd.TruncatedSVD'>\n",
      "<class 'sklearn.linear_model.stochastic_gradient.SGDClassifier'>\n",
      "0.634501067784\n",
      "\n",
      "\n",
      "<class 'sklearn.feature_extraction.text.CountVectorizer'>\n",
      "<class 'sklearn.decomposition.truncated_svd.TruncatedSVD'>\n",
      "<class 'sklearn.linear_model.ridge.RidgeClassifier'>\n",
      "0.636999818409\n",
      "\n",
      "\n",
      "<class 'sklearn.feature_extraction.text.CountVectorizer'>\n",
      "<class 'sklearn.decomposition.truncated_svd.TruncatedSVD'>\n",
      "<class 'sklearn.linear_model.ridge.RidgeClassifierCV'>\n",
      "0.636999818409\n",
      "\n",
      "\n",
      "<class 'sklearn.feature_extraction.text.CountVectorizer'>\n",
      "<class 'sklearn.decomposition.truncated_svd.TruncatedSVD'>\n",
      "<class 'sklearn.svm.classes.LinearSVC'>\n",
      "0.636999818409\n",
      "\n",
      "\n",
      "<class 'sklearn.feature_extraction.text.TfidfVectorizer'>\n",
      "<class 'sklearn.feature_extraction.text.TfidfTransformer'>\n",
      "<class 'sklearn.linear_model.logistic.LogisticRegression'>\n",
      "0.722000861431\n",
      "\n",
      "\n",
      "<class 'sklearn.feature_extraction.text.TfidfVectorizer'>\n",
      "<class 'sklearn.feature_extraction.text.TfidfTransformer'>\n",
      "<class 'sklearn.linear_model.stochastic_gradient.SGDClassifier'>\n",
      "0.729007868438\n",
      "\n",
      "\n",
      "<class 'sklearn.feature_extraction.text.TfidfVectorizer'>\n",
      "<class 'sklearn.feature_extraction.text.TfidfTransformer'>\n",
      "<class 'sklearn.linear_model.ridge.RidgeClassifier'>\n",
      "0.743502122812\n",
      "\n",
      "\n",
      "<class 'sklearn.feature_extraction.text.TfidfVectorizer'>\n",
      "<class 'sklearn.feature_extraction.text.TfidfTransformer'>\n",
      "<class 'sklearn.linear_model.ridge.RidgeClassifierCV'>\n",
      "0.739004371688\n",
      "\n",
      "\n",
      "<class 'sklearn.feature_extraction.text.TfidfVectorizer'>\n",
      "<class 'sklearn.feature_extraction.text.TfidfTransformer'>\n",
      "<class 'sklearn.svm.classes.LinearSVC'>\n",
      "0.739504121813\n",
      "\n",
      "\n",
      "<class 'sklearn.feature_extraction.text.TfidfVectorizer'>\n",
      "<class 'sklearn.decomposition.truncated_svd.TruncatedSVD'>\n",
      "<class 'sklearn.linear_model.logistic.LogisticRegression'>\n",
      "0.636999818409\n",
      "\n",
      "\n",
      "<class 'sklearn.feature_extraction.text.TfidfVectorizer'>\n",
      "<class 'sklearn.decomposition.truncated_svd.TruncatedSVD'>\n",
      "<class 'sklearn.linear_model.stochastic_gradient.SGDClassifier'>\n",
      "0.619008813911\n",
      "\n",
      "\n",
      "<class 'sklearn.feature_extraction.text.TfidfVectorizer'>\n",
      "<class 'sklearn.decomposition.truncated_svd.TruncatedSVD'>\n",
      "<class 'sklearn.linear_model.ridge.RidgeClassifier'>\n",
      "0.634998566783\n",
      "\n",
      "\n",
      "<class 'sklearn.feature_extraction.text.TfidfVectorizer'>\n",
      "<class 'sklearn.decomposition.truncated_svd.TruncatedSVD'>\n",
      "<class 'sklearn.linear_model.ridge.RidgeClassifierCV'>\n",
      "0.645993819907\n",
      "\n",
      "\n",
      "<class 'sklearn.feature_extraction.text.TfidfVectorizer'>\n",
      "<class 'sklearn.decomposition.truncated_svd.TruncatedSVD'>\n",
      "<class 'sklearn.svm.classes.LinearSVC'>\n",
      "0.658001329665\n",
      "\n",
      "\n"
     ]
    }
   ],
   "source": [
    "for vctr in [CountVectorizer, TfidfVectorizer]:\n",
    "    for trfr in [TfidfTransformer, TruncatedSVD]:\n",
    "        for clfr in [LogisticRegression, SGDClassifier, \n",
    "                     RidgeClassifier, RidgeClassifierCV, LinearSVC,]:\n",
    "            print vctr\n",
    "            print trfr\n",
    "            print clfr\n",
    "            print cross_val_score(text_classifier2(\n",
    "                vctr(stop_words='english'), \n",
    "                trfr(), \n",
    "                clfr()), \n",
    "                                  texts, labels).mean()\n",
    "            print \"\\n\""
   ]
  },
  {
   "cell_type": "markdown",
   "metadata": {
    "collapsed": false
   },
   "source": [
    "Зря мы это сделали\n",
    "\n",
    "Но можно добавить биграммы и ограничить количество столбцов в матрице"
   ]
  },
  {
   "cell_type": "code",
   "execution_count": 11,
   "metadata": {
    "collapsed": false
   },
   "outputs": [
    {
     "name": "stdout",
     "output_type": "stream",
     "text": [
      "<class 'sklearn.feature_extraction.text.CountVectorizer'>\n",
      "<class 'sklearn.feature_extraction.text.TfidfTransformer'>\n",
      "<class 'sklearn.linear_model.logistic.LogisticRegression'>\n",
      "0.752003877941\n",
      "\n",
      "\n",
      "<class 'sklearn.feature_extraction.text.CountVectorizer'>\n",
      "<class 'sklearn.feature_extraction.text.TfidfTransformer'>\n",
      "<class 'sklearn.linear_model.stochastic_gradient.SGDClassifier'>\n",
      "0.760502631567\n",
      "\n",
      "\n",
      "<class 'sklearn.feature_extraction.text.CountVectorizer'>\n",
      "<class 'sklearn.feature_extraction.text.TfidfTransformer'>\n",
      "<class 'sklearn.linear_model.ridge.RidgeClassifier'>\n",
      "0.784502643573\n",
      "\n",
      "\n",
      "<class 'sklearn.feature_extraction.text.CountVectorizer'>\n",
      "<class 'sklearn.feature_extraction.text.TfidfTransformer'>\n",
      "<class 'sklearn.linear_model.ridge.RidgeClassifierCV'>\n",
      "0.782004643324\n",
      "\n",
      "\n",
      "<class 'sklearn.feature_extraction.text.CountVectorizer'>\n",
      "<class 'sklearn.feature_extraction.text.TfidfTransformer'>\n",
      "<class 'sklearn.svm.classes.LinearSVC'>\n",
      "0.778503390947\n",
      "\n",
      "\n",
      "<class 'sklearn.feature_extraction.text.CountVectorizer'>\n",
      "<class 'sklearn.decomposition.truncated_svd.TruncatedSVD'>\n",
      "<class 'sklearn.linear_model.logistic.LogisticRegression'>\n",
      "0.635499817659\n",
      "\n",
      "\n",
      "<class 'sklearn.feature_extraction.text.CountVectorizer'>\n",
      "<class 'sklearn.decomposition.truncated_svd.TruncatedSVD'>\n",
      "<class 'sklearn.linear_model.stochastic_gradient.SGDClassifier'>\n",
      "0.472997735367\n",
      "\n",
      "\n",
      "<class 'sklearn.feature_extraction.text.CountVectorizer'>\n",
      "<class 'sklearn.decomposition.truncated_svd.TruncatedSVD'>\n",
      "<class 'sklearn.linear_model.ridge.RidgeClassifier'>\n",
      "0.635499817659\n",
      "\n",
      "\n",
      "<class 'sklearn.feature_extraction.text.CountVectorizer'>\n",
      "<class 'sklearn.decomposition.truncated_svd.TruncatedSVD'>\n",
      "<class 'sklearn.linear_model.ridge.RidgeClassifierCV'>\n",
      "0.636000318159\n",
      "\n",
      "\n",
      "<class 'sklearn.feature_extraction.text.CountVectorizer'>\n",
      "<class 'sklearn.decomposition.truncated_svd.TruncatedSVD'>\n",
      "<class 'sklearn.svm.classes.LinearSVC'>\n",
      "0.635499817659\n",
      "\n",
      "\n",
      "<class 'sklearn.feature_extraction.text.TfidfVectorizer'>\n",
      "<class 'sklearn.feature_extraction.text.TfidfTransformer'>\n",
      "<class 'sklearn.linear_model.logistic.LogisticRegression'>\n",
      "0.724002863433\n",
      "\n",
      "\n",
      "<class 'sklearn.feature_extraction.text.TfidfVectorizer'>\n",
      "<class 'sklearn.feature_extraction.text.TfidfTransformer'>\n",
      "<class 'sklearn.linear_model.stochastic_gradient.SGDClassifier'>\n",
      "0.769002885944\n",
      "\n",
      "\n",
      "<class 'sklearn.feature_extraction.text.TfidfVectorizer'>\n",
      "<class 'sklearn.feature_extraction.text.TfidfTransformer'>\n",
      "<class 'sklearn.linear_model.ridge.RidgeClassifier'>\n",
      "0.775006640824\n",
      "\n",
      "\n",
      "<class 'sklearn.feature_extraction.text.TfidfVectorizer'>\n",
      "<class 'sklearn.feature_extraction.text.TfidfTransformer'>\n",
      "<class 'sklearn.linear_model.ridge.RidgeClassifierCV'>\n",
      "0.774506140323\n",
      "\n",
      "\n",
      "<class 'sklearn.feature_extraction.text.TfidfVectorizer'>\n",
      "<class 'sklearn.feature_extraction.text.TfidfTransformer'>\n",
      "<class 'sklearn.svm.classes.LinearSVC'>\n",
      "0.775002888946\n",
      "\n",
      "\n",
      "<class 'sklearn.feature_extraction.text.TfidfVectorizer'>\n",
      "<class 'sklearn.decomposition.truncated_svd.TruncatedSVD'>\n",
      "<class 'sklearn.linear_model.logistic.LogisticRegression'>\n",
      "0.636999818409\n",
      "\n",
      "\n",
      "<class 'sklearn.feature_extraction.text.TfidfVectorizer'>\n",
      "<class 'sklearn.decomposition.truncated_svd.TruncatedSVD'>\n",
      "<class 'sklearn.linear_model.stochastic_gradient.SGDClassifier'>\n",
      "0.636999818409\n",
      "\n",
      "\n",
      "<class 'sklearn.feature_extraction.text.TfidfVectorizer'>\n",
      "<class 'sklearn.decomposition.truncated_svd.TruncatedSVD'>\n",
      "<class 'sklearn.linear_model.ridge.RidgeClassifier'>\n",
      "0.635000817909\n",
      "\n",
      "\n",
      "<class 'sklearn.feature_extraction.text.TfidfVectorizer'>\n",
      "<class 'sklearn.decomposition.truncated_svd.TruncatedSVD'>\n",
      "<class 'sklearn.linear_model.ridge.RidgeClassifierCV'>\n",
      "0.634000567284\n",
      "\n",
      "\n",
      "<class 'sklearn.feature_extraction.text.TfidfVectorizer'>\n",
      "<class 'sklearn.decomposition.truncated_svd.TruncatedSVD'>\n",
      "<class 'sklearn.svm.classes.LinearSVC'>\n",
      "0.634500317409\n",
      "\n",
      "\n"
     ]
    }
   ],
   "source": [
    "for vctr in [CountVectorizer, TfidfVectorizer]:\n",
    "    for trfr in [TfidfTransformer, TruncatedSVD]:\n",
    "        for clfr in [LogisticRegression, SGDClassifier, \n",
    "                     RidgeClassifier, RidgeClassifierCV, LinearSVC,]:\n",
    "            print vctr\n",
    "            print trfr\n",
    "            print clfr\n",
    "            print cross_val_score(text_classifier2(\n",
    "                vctr(max_features=6000, ngram_range=(1,2)), \n",
    "                trfr(), \n",
    "                clfr()), \n",
    "                                  texts, labels).mean()\n",
    "            print \"\\n\""
   ]
  },
  {
   "cell_type": "markdown",
   "metadata": {
    "collapsed": false
   },
   "source": [
    "Итак, модель чудом улучшилась при сочетании \n",
    "CountVectorizer,TfidfTransformer,RidgeClassifier\n"
   ]
  },
  {
   "cell_type": "markdown",
   "metadata": {
    "collapsed": false
   },
   "source": [
    "Загружаем тестовые данные"
   ]
  },
  {
   "cell_type": "code",
   "execution_count": 12,
   "metadata": {
    "collapsed": true
   },
   "outputs": [],
   "source": [
    "sentiments_test = pd.read_csv('products_sentiment_test.tsv',delimiter='\\t', header=0, index_col='Id')"
   ]
  },
  {
   "cell_type": "code",
   "execution_count": 13,
   "metadata": {
    "collapsed": true
   },
   "outputs": [],
   "source": [
    "text_test = sentiments_test.text"
   ]
  },
  {
   "cell_type": "code",
   "execution_count": 14,
   "metadata": {
    "collapsed": false
   },
   "outputs": [],
   "source": [
    "pl_test = text_classifier2(CountVectorizer(max_features=6000, ngram_range=(1,2)), TfidfTransformer(), RidgeClassifier())"
   ]
  },
  {
   "cell_type": "code",
   "execution_count": 15,
   "metadata": {
    "collapsed": false
   },
   "outputs": [
    {
     "data": {
      "text/plain": [
       "Pipeline(steps=[('vectorizer', CountVectorizer(analyzer=u'word', binary=False, decode_error=u'strict',\n",
       "        dtype=<type 'numpy.int64'>, encoding=u'utf-8', input=u'content',\n",
       "        lowercase=True, max_df=1.0, max_features=6000, min_df=1,\n",
       "        ngram_range=(1, 2), preprocessor=None, stop_words=None,\n",
       "    ...True,\n",
       "        max_iter=None, normalize=False, random_state=None, solver='auto',\n",
       "        tol=0.001))])"
      ]
     },
     "execution_count": 15,
     "metadata": {},
     "output_type": "execute_result"
    }
   ],
   "source": [
    "pl_test.fit(texts,labels)"
   ]
  },
  {
   "cell_type": "code",
   "execution_count": 16,
   "metadata": {
    "collapsed": false
   },
   "outputs": [],
   "source": [
    "result = pd.DataFrame(data = pl_test.predict(text_test), columns=['y'])\n",
    "\n",
    "result.to_csv('result.csv',index_label=['Id'])"
   ]
  }
 ],
 "metadata": {
  "kernelspec": {
   "display_name": "Python [default]",
   "language": "python",
   "name": "python2"
  },
  "language_info": {
   "codemirror_mode": {
    "name": "ipython",
    "version": 2
   },
   "file_extension": ".py",
   "mimetype": "text/x-python",
   "name": "python",
   "nbconvert_exporter": "python",
   "pygments_lexer": "ipython2",
   "version": "2.7.13"
  }
 },
 "nbformat": 4,
 "nbformat_minor": 2
}
