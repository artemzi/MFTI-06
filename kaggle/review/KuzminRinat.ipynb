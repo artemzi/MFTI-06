{
 "cells": [
  {
   "cell_type": "code",
   "execution_count": 1,
   "metadata": {
    "collapsed": false
   },
   "outputs": [
    {
     "name": "stderr",
     "output_type": "stream",
     "text": [
      "/Users/rin/anaconda/lib/python2.7/site-packages/sklearn/cross_validation.py:44: DeprecationWarning: This module was deprecated in version 0.18 in favor of the model_selection module into which all the refactored classes and functions are moved. Also note that the interface of the new CV iterators are different from that of this module. This module will be removed in 0.20.\n",
      "  \"This module will be removed in 0.20.\", DeprecationWarning)\n"
     ]
    }
   ],
   "source": [
    "import nltk\n",
    "import numpy as np\n",
    "import pandas as pd\n",
    "from sklearn.feature_extraction.text import TfidfTransformer, CountVectorizer, TfidfVectorizer\n",
    "from sklearn.linear_model import LogisticRegression, SGDClassifier, RidgeClassifier, Lasso, RidgeClassifierCV\n",
    "from sklearn.svm import LinearSVC\n",
    "from sklearn.cross_validation import cross_val_score\n",
    "from sklearn.pipeline import Pipeline\n",
    "from sklearn.ensemble import RandomForestClassifier, GradientBoostingClassifier\n",
    "from nltk.corpus import stopwords\n",
    "from sklearn.naive_bayes import MultinomialNB\n",
    "from sklearn.neural_network import MLPClassifier\n",
    "from nltk.stem.porter import *\n",
    "from sklearn.naive_bayes import BernoulliNB"
   ]
  },
  {
   "cell_type": "markdown",
   "metadata": {},
   "source": [
    "Размеченные данные я брал из магазина Ситилинк в разделах \"Сотовые телефоны\" и \"Смартфоны\".\n",
    "В папке лежит проект Scrapy.\n",
    "Далее идет предобработка данных, т.к. в первом разделе я вытащил данные в виде массива, поэтому пришлось применять функцию ss\n"
   ]
  },
  {
   "cell_type": "code",
   "execution_count": 2,
   "metadata": {
    "collapsed": true
   },
   "outputs": [],
   "source": [
    "data = pd.read_json('feed.json')\n",
    "data2 = pd.read_json('smart_citilink.json')"
   ]
  },
  {
   "cell_type": "code",
   "execution_count": 3,
   "metadata": {
    "collapsed": true
   },
   "outputs": [],
   "source": [
    "def ss(x):\n",
    "    if len(x) == 0: return ''\n",
    "    else: return x[0]"
   ]
  },
  {
   "cell_type": "code",
   "execution_count": 4,
   "metadata": {
    "collapsed": false
   },
   "outputs": [],
   "source": [
    "data.comment = data.comment.apply(ss)\n",
    "data.positive = data.positive.apply(ss)\n",
    "data.negative = data.negative.apply(ss)\n",
    "data.rate = data.rate.apply(ss)"
   ]
  },
  {
   "cell_type": "code",
   "execution_count": 5,
   "metadata": {
    "collapsed": true
   },
   "outputs": [],
   "source": [
    "data = pd.concat([data,data2])"
   ]
  },
  {
   "cell_type": "markdown",
   "metadata": {},
   "source": [
    "Если оценка выше 3ех - отзыв положительный"
   ]
  },
  {
   "cell_type": "code",
   "execution_count": 6,
   "metadata": {
    "collapsed": true
   },
   "outputs": [],
   "source": [
    "def rate(x):\n",
    "    n = float(x)\n",
    "    n = int(n)\n",
    "    if n>2: return 1\n",
    "    else: return 0\n",
    "data.rate = data.rate.apply(rate)"
   ]
  },
  {
   "cell_type": "code",
   "execution_count": 22,
   "metadata": {
    "collapsed": false
   },
   "outputs": [
    {
     "data": {
      "text/html": [
       "<div>\n",
       "<table border=\"1\" class=\"dataframe\">\n",
       "  <thead>\n",
       "    <tr style=\"text-align: right;\">\n",
       "      <th></th>\n",
       "      <th>comment</th>\n",
       "      <th>negative</th>\n",
       "      <th>positive</th>\n",
       "      <th>rate</th>\n",
       "    </tr>\n",
       "  </thead>\n",
       "  <tbody>\n",
       "    <tr>\n",
       "      <th>0</th>\n",
       "      <td>Советую к покупке,хорошая звонилка</td>\n",
       "      <td>Нет</td>\n",
       "      <td>Дешёвый,простой в использовании</td>\n",
       "      <td>1</td>\n",
       "    </tr>\n",
       "    <tr>\n",
       "      <th>1</th>\n",
       "      <td>купил как дополнительную трубку, отличная звон...</td>\n",
       "      <td>нет фонарика</td>\n",
       "      <td>цена, блютуз, две сим, громкость и качество зв...</td>\n",
       "      <td>1</td>\n",
       "    </tr>\n",
       "    <tr>\n",
       "      <th>2</th>\n",
       "      <td>Покупала папе, все устраивает. При умеренном и...</td>\n",
       "      <td>Интерфейс иногда соложноват, нужно привыкнуть</td>\n",
       "      <td>Все работает на отлично, не тормозит и не глючит</td>\n",
       "      <td>1</td>\n",
       "    </tr>\n",
       "    <tr>\n",
       "      <th>3</th>\n",
       "      <td>Хорош смарт все работает без тормозов,качестве...</td>\n",
       "      <td>Нет</td>\n",
       "      <td>100%!!!</td>\n",
       "      <td>1</td>\n",
       "    </tr>\n",
       "    <tr>\n",
       "      <th>4</th>\n",
       "      <td>Как телефон неплох, как смартфон ????</td>\n",
       "      <td>GPS не работает (за 30 минут на улице ни одног...</td>\n",
       "      <td>Телефон но не смартфон</td>\n",
       "      <td>0</td>\n",
       "    </tr>\n",
       "  </tbody>\n",
       "</table>\n",
       "</div>"
      ],
      "text/plain": [
       "                                             comment  \\\n",
       "0                 Советую к покупке,хорошая звонилка   \n",
       "1  купил как дополнительную трубку, отличная звон...   \n",
       "2  Покупала папе, все устраивает. При умеренном и...   \n",
       "3  Хорош смарт все работает без тормозов,качестве...   \n",
       "4              Как телефон неплох, как смартфон ????   \n",
       "\n",
       "                                            negative  \\\n",
       "0                                                Нет   \n",
       "1                                       нет фонарика   \n",
       "2      Интерфейс иногда соложноват, нужно привыкнуть   \n",
       "3                                                Нет   \n",
       "4  GPS не работает (за 30 минут на улице ни одног...   \n",
       "\n",
       "                                            positive  rate  \n",
       "0                    Дешёвый,простой в использовании     1  \n",
       "1  цена, блютуз, две сим, громкость и качество зв...     1  \n",
       "2   Все работает на отлично, не тормозит и не глючит     1  \n",
       "3                                            100%!!!     1  \n",
       "4                            Телефон но не смартфон      0  "
      ]
     },
     "execution_count": 22,
     "metadata": {},
     "output_type": "execute_result"
    }
   ],
   "source": [
    "data.head()"
   ]
  },
  {
   "cell_type": "code",
   "execution_count": 8,
   "metadata": {
    "collapsed": true
   },
   "outputs": [],
   "source": [
    "data = data.dropna()"
   ]
  },
  {
   "cell_type": "markdown",
   "metadata": {},
   "source": [
    "Если отзыв положительный, то беру лишь блок положительных качеств и суммирую с комментариями, если отзыв отрицательный, то соответственно суммирую с отрицательным блоком комментарии"
   ]
  },
  {
   "cell_type": "code",
   "execution_count": 9,
   "metadata": {
    "collapsed": false
   },
   "outputs": [],
   "source": [
    "feed = []\n",
    "for i in range(data.shape[0]):\n",
    "    if data.rate.iloc[i] == 1: feed.append((data.positive.iloc[i]+' '+data.comment.iloc[i]))\n",
    "    else: feed.append(data.negative.iloc[i]+' '+data.comment.iloc[i])"
   ]
  },
  {
   "cell_type": "code",
   "execution_count": 10,
   "metadata": {
    "collapsed": true
   },
   "outputs": [],
   "source": [
    "y = data.rate.tolist()"
   ]
  },
  {
   "cell_type": "markdown",
   "metadata": {},
   "source": [
    "Провожу токенизацию обучающей выборки:"
   ]
  },
  {
   "cell_type": "code",
   "execution_count": 16,
   "metadata": {
    "collapsed": false
   },
   "outputs": [],
   "source": [
    "import nltk\n",
    "from nltk.tokenize import word_tokenize\n",
    "X =  [word_tokenize(i) for i in feed]\n",
    "X = [' '.join(i) for i in X]\n",
    "X = [i.lower() for i in X]"
   ]
  },
  {
   "cell_type": "markdown",
   "metadata": {},
   "source": [
    "Достаю тестовую выборку из файла и тоже провожу токенизацию. Токенизация проводится с помощью какого-то пакета из nltk, я не смог найти его конкретно, поэтому скачал сразу все пакеты. Если вы хотите что код ниже сработал и у вас есть свободное место на диске, то сперва выполните команду  \"python -m nltk.downloader all\"  в терминале\n"
   ]
  },
  {
   "cell_type": "code",
   "execution_count": 17,
   "metadata": {
    "collapsed": false
   },
   "outputs": [
    {
     "name": "stderr",
     "output_type": "stream",
     "text": [
      "/Users/rin/anaconda/lib/python2.7/site-packages/bs4/__init__.py:181: UserWarning: No parser was explicitly specified, so I'm using the best available HTML parser for this system (\"lxml\"). This usually isn't a problem, but if you run this code on another system, or in a different virtual environment, it may use a different parser and behave differently.\n",
      "\n",
      "The code that caused this warning is on line 174 of the file /Users/rin/anaconda/lib/python2.7/runpy.py. To get rid of this warning, change code that looks like this:\n",
      "\n",
      " BeautifulSoup([your markup])\n",
      "\n",
      "to this:\n",
      "\n",
      " BeautifulSoup([your markup], \"lxml\")\n",
      "\n",
      "  markup_type=markup_type))\n"
     ]
    }
   ],
   "source": [
    "test=[]\n",
    "import bs4\n",
    "soup = bs4.BeautifulSoup(open(\"test.csv\"))\n",
    "\n",
    "for city in soup.find_all('review'):\n",
    "    test.append(city.text)\n",
    "    \n",
    "test =  [word_tokenize(i) for i in test]\n",
    "test = [' '.join(i) for i in test]\n",
    "test = [i.lower() for i in test]"
   ]
  },
  {
   "cell_type": "markdown",
   "metadata": {},
   "source": [
    "Проверяю почти стандартный пайплайн на кросс-валидации:"
   ]
  },
  {
   "cell_type": "code",
   "execution_count": 19,
   "metadata": {
    "collapsed": false
   },
   "outputs": [
    {
     "name": "stdout",
     "output_type": "stream",
     "text": [
      "0.918027096921\n"
     ]
    }
   ],
   "source": [
    "clf_pipeline = Pipeline(\n",
    "            [(\"vectorizer\", CountVectorizer(ngram_range=(3,5), analyzer='char_wb')),\n",
    "             (\"transformer\", TfidfTransformer()),\n",
    "            (\"classifier\", LinearSVC(class_weight='balanced'))]\n",
    "        )\n",
    "print cross_val_score(clf_pipeline, X, y).mean()"
   ]
  },
  {
   "cell_type": "markdown",
   "metadata": {},
   "source": [
    "Обучаю на тестовой выборке и создаю выходной файл с предсказаниями:"
   ]
  },
  {
   "cell_type": "code",
   "execution_count": 21,
   "metadata": {
    "collapsed": true
   },
   "outputs": [],
   "source": [
    "clf_pipeline.fit(X, y)\n",
    "predicted = clf_pipeline.predict(test)\n",
    "pp = ['pos' if i==1 else 'neg' for i in predicted]\n",
    "with open('submit4.txt',\"w\") as fout:\n",
    "    fout.write('Id,y\\n')\n",
    "    for i in np.arange(100):\n",
    "        fout.write(str(i)+','+str(pp[i])+'\\n')"
   ]
  },
  {
   "cell_type": "markdown",
   "metadata": {},
   "source": [
    "Результат на Kaggle:"
   ]
  },
  {
   "cell_type": "markdown",
   "metadata": {},
   "source": [
    "![title](scr.png)"
   ]
  }
 ],
 "metadata": {
  "kernelspec": {
   "display_name": "Python 2",
   "language": "python",
   "name": "python2"
  },
  "language_info": {
   "codemirror_mode": {
    "name": "ipython",
    "version": 2
   },
   "file_extension": ".py",
   "mimetype": "text/x-python",
   "name": "python",
   "nbconvert_exporter": "python",
   "pygments_lexer": "ipython2",
   "version": "2.7.13"
  }
 },
 "nbformat": 4,
 "nbformat_minor": 2
}
