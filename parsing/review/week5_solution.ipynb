{
 "cells": [
  {
   "cell_type": "markdown",
   "metadata": {},
   "source": [
    "# Peer-graded Assignment: Парсинг веб-страниц\n",
    "\n",
    "## Instructions\n",
    "\n",
    "В этом задании вы потренеруетесь парсить веб-страницы. Это умение пригодится вам, когда возникнет потребность самостоятельно собрать выборку для построения модели, будь то тексты или какая-та другая информация с общедоступных веб-страниц. В рамках данного проекта это случится уже в задании следующей недели.\n",
    "\n",
    "## Инструкция\n",
    "\n",
    "* Изучите блокнот с примерами парсинга страниц (в аттаче)\n",
    "* Поэкспериментируйте с парсингом любой страницы на ваш вкус, бегло просмотрите документацию библиотек beautiful soup и requests. При парсинге вам в любом случае потребуется смотреть на html-код страницы, чтобы понять, какие элементы вас интересуют.\n",
    "* Чтобы продемонстрировать, что вы разобрались, как использовать requests и beautiful soup, распарсите:\n",
    " * а) из статьи https://en.wikipedia.org/wiki/Bias-variance_tradeoff все заголовки верхнего уровня;\n",
    " * б) со страницы https://en.wikipedia.org/wiki/Category:Machine_learning_algorithms названия всех статей в категории Machine Learning Algorithms\n",
    " \n",
    "## Review criteria\n",
    "В качестве ответа в этом задании вам нужно загрузить ноутбук. Позаботьтесь об оформлении, чтобы вашим сокурсникам при проверке было понятно, что является вашим результатом в пункте 3."
   ]
  },
  {
   "cell_type": "code",
   "execution_count": 1,
   "metadata": {
    "collapsed": true
   },
   "outputs": [],
   "source": [
    "import requests\n",
    "import bs4"
   ]
  },
  {
   "cell_type": "markdown",
   "metadata": {},
   "source": [
    "## Задание А)\n",
    "\n",
    "Распарсить из статьи https://en.wikipedia.org/wiki/Bias-variance_tradeoff все заголовки верхнего уровня;"
   ]
  },
  {
   "cell_type": "code",
   "execution_count": 2,
   "metadata": {},
   "outputs": [
    {
     "name": "stdout",
     "output_type": "stream",
     "text": [
      "1 Motivation\n",
      "2 Bias–variance decomposition of squared error\n",
      "3 Application to regression\n",
      "4 Application to classification\n",
      "5 Approaches\n",
      "6 Application to human learning\n",
      "7 See also\n",
      "8 References\n",
      "9 External links\n"
     ]
    }
   ],
   "source": [
    "# Скачаем страницу\n",
    "req = requests.get('https://en.wikipedia.org/wiki/Bias-variance_tradeoff')\n",
    "\n",
    "# Инициализируем парсер\n",
    "parser = bs4.BeautifulSoup(req.text, 'lxml')\n",
    "\n",
    "# Воспользуемся функционалом поиска по CSS-Selector\n",
    "y = parser.select(\"h2 span.mw-headline\")\n",
    "\n",
    "# Выведем тексты (должно быть 9 заголовков)\n",
    "i = 1\n",
    "for result in y:\n",
    "    print i, result.text\n",
    "    i += 1"
   ]
  },
  {
   "cell_type": "markdown",
   "metadata": {},
   "source": [
    "## Задание Б)\n",
    "\n",
    "Распарсить со страницы https://en.wikipedia.org/wiki/Category:Machine_learning_algorithms названия всех статей в категории Machine Learning Algorithms\n"
   ]
  },
  {
   "cell_type": "code",
   "execution_count": 3,
   "metadata": {},
   "outputs": [
    {
     "name": "stdout",
     "output_type": "stream",
     "text": [
      "1 Almeida–Pineda recurrent backpropagation\n",
      "2 Backpropagation\n",
      "3 Bootstrap aggregating\n",
      "4 CN2 algorithm\n",
      "5 Constructing skill trees\n",
      "6 Dehaene–Changeux model\n",
      "7 Diffusion map\n",
      "8 Dominance-based rough set approach\n",
      "9 Dynamic time warping\n",
      "10 Error-driven learning\n",
      "11 Evolutionary multimodal optimization\n",
      "12 Expectation–maximization algorithm\n",
      "13 FastICA\n",
      "14 Forward–backward algorithm\n",
      "15 GeneRec\n",
      "16 Genetic Algorithm for Rule Set Production\n",
      "17 Growing self-organizing map\n",
      "18 HEXQ\n",
      "19 Hyper basis function network\n",
      "20 IDistance\n",
      "21 K-nearest neighbors algorithm\n",
      "22 Kernel methods for vector output\n",
      "23 Kernel principal component analysis\n",
      "24 Leabra\n",
      "25 Linde–Buzo–Gray algorithm\n",
      "26 Local outlier factor\n",
      "27 Logic learning machine\n",
      "28 LogitBoost\n",
      "29 Loss functions for classification\n",
      "30 Manifold alignment\n",
      "31 Minimum redundancy feature selection\n",
      "32 Mixture of experts\n",
      "33 Multiple kernel learning\n",
      "34 Non-negative matrix factorization\n",
      "35 Online machine learning\n",
      "36 Out-of-bag error\n",
      "37 Prefrontal cortex basal ganglia working memory\n",
      "38 PVLV\n",
      "39 Q-learning\n",
      "40 Quadratic unconstrained binary optimization\n",
      "41 Query level feature\n",
      "42 Quickprop\n",
      "43 Radial basis function network\n",
      "44 Randomized weighted majority algorithm\n",
      "45 Reinforcement learning\n",
      "46 Rprop\n",
      "47 Rule-based machine learning\n",
      "48 Skill chaining\n",
      "49 Sparse PCA\n",
      "50 State-Action-Reward-State-Action\n",
      "51 Stochastic gradient descent\n",
      "52 Structured kNN\n",
      "53 T-distributed stochastic neighbor embedding\n",
      "54 Temporal difference learning\n",
      "55 Wake-sleep algorithm\n",
      "56 Weighted Majority Algorithm\n"
     ]
    }
   ],
   "source": [
    "# Скачаем страницу\n",
    "req = requests.get('https://en.wikipedia.org/wiki/Category:Machine_learning_algorithms')\n",
    "\n",
    "# Инициализируем парсер\n",
    "parser = bs4.BeautifulSoup(req.text, 'lxml')\n",
    "\n",
    "# Воспользуемся функционалом поиска по CSS-Selector\n",
    "y = parser.select(\"div.mw-category-group ul li a\")\n",
    "\n",
    "# Выведем все название статей\n",
    "i = 1\n",
    "for result in y:\n",
    "    print i, result.text\n",
    "    i += 1"
   ]
  },
  {
   "cell_type": "code",
   "execution_count": null,
   "metadata": {
    "collapsed": true
   },
   "outputs": [],
   "source": []
  }
 ],
 "metadata": {
  "anaconda-cloud": {},
  "kernelspec": {
   "display_name": "Python 2",
   "language": "python",
   "name": "python2"
  },
  "language_info": {
   "codemirror_mode": {
    "name": "ipython",
    "version": 2
   },
   "file_extension": ".py",
   "mimetype": "text/x-python",
   "name": "python",
   "nbconvert_exporter": "python",
   "pygments_lexer": "ipython2",
   "version": "2.7.12"
  }
 },
 "nbformat": 4,
 "nbformat_minor": 1
}
