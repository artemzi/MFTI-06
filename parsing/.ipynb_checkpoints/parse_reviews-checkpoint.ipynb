{
 "cells": [
  {
   "cell_type": "markdown",
   "metadata": {},
   "source": [
    "# Процесс сбора тренировочных данных "
   ]
  },
  {
   "cell_type": "code",
   "execution_count": 1,
   "metadata": {
    "collapsed": true
   },
   "outputs": [],
   "source": [
    "#Импорт библиотек.\n",
    "import requests\n",
    "import bs4\n",
    "import pandas as pd"
   ]
  },
  {
   "cell_type": "markdown",
   "metadata": {},
   "source": [
    "## Парсинг отзывов для тренировочной выборки\n",
    "\n",
    "Первым делом нужно было определиться с выбором сайта. Я взял один из тестовых отзывов и загуглил его. Нашёл сайт http://deal64.ga/ . Отзывы я буду собирать именно с него. Этапы сбора описаны ниже."
   ]
  },
  {
   "cell_type": "code",
   "execution_count": 4,
   "metadata": {
    "collapsed": true
   },
   "outputs": [],
   "source": [
    "#Эти ссылки будут нужны, поэтому завожу для них переменные.\n",
    "short_main_link = 'http://deal64.ga/'\n",
    "main_link = 'http://deal64.ga/mobile/'\n",
    "\n",
    "#Первый раз считываю данные.\n",
    "req = requests.get(main_link)\n",
    "soup = bs4.BeautifulSoup(req.text, 'lxml')"
   ]
  },
  {
   "cell_type": "markdown",
   "metadata": {},
   "source": [
    "Пройдя по ссылке main_link, можно найти список производителей телефонов. Составляю его."
   ]
  },
  {
   "cell_type": "code",
   "execution_count": 5,
   "metadata": {},
   "outputs": [
    {
     "name": "stdout",
     "output_type": "stream",
     "text": [
      "['Samsung', 'Nokia', 'Sony', 'HTC', 'LG', 'Lenovo', 'Philips', 'Apple', 'Fly', 'Explay', 'Huawei', 'Alcatel', 'Highscreen', 'ThL', 'BlackBerry', 'ASUS', 'Acer', 'Zopo', 'Xiaomi', 'Caterpillar', 'Jiayu', 'Yota', 'Meizu', 'HONPhone', 'ZTE', 'Motorola', 'iNew']\n"
     ]
    }
   ],
   "source": [
    "producers = []\n",
    "divs = soup.findAll('ul', attrs={'class' : 'producers'})\n",
    "for div in divs:\n",
    "    for li in div.find_all('li'):\n",
    "        producers.append(li.text)\n",
    "\n",
    "print(producers)"
   ]
  },
  {
   "cell_type": "markdown",
   "metadata": {},
   "source": [
    "Теперь мне нужны ссылки на разделы. Создаю их."
   ]
  },
  {
   "cell_type": "code",
   "execution_count": 6,
   "metadata": {},
   "outputs": [
    {
     "name": "stdout",
     "output_type": "stream",
     "text": [
      "['http://deal64.ga/mobile/Samsung/', 'http://deal64.ga/mobile/Nokia/', 'http://deal64.ga/mobile/Sony/']\n"
     ]
    }
   ],
   "source": [
    "producers_links = [main_link + i + '/' for i in producers]\n",
    "print(producers_links[:3])"
   ]
  },
  {
   "cell_type": "markdown",
   "metadata": {},
   "source": [
    "Возьму одного из производителей для примера. На открывшейся странице есть список его телефонов. Список телефонов может занимать несколько страниц, но я беру данные только с первой - итоговое количество отзывов получилось итак достаточным."
   ]
  },
  {
   "cell_type": "code",
   "execution_count": 7,
   "metadata": {},
   "outputs": [
    {
     "name": "stdout",
     "output_type": "stream",
     "text": [
      "['/entry/huawei-ascend-y300/', '/entry/huawei-ascend-g510/', '/entry/huawei-honor-pro/']\n"
     ]
    }
   ],
   "source": [
    "req = requests.get(producers_links[10])\n",
    "soup = bs4.BeautifulSoup(req.text, 'lxml')\n",
    "divs = soup.findAll('div', attrs={'class' : 'text'})\n",
    "phones = []\n",
    "for a in divs:\n",
    "    for i in a.find_all('a', href=True):\n",
    "        phones.append(i['href'])\n",
    "        \n",
    "print(phones[:3])"
   ]
  },
  {
   "cell_type": "markdown",
   "metadata": {},
   "source": [
    "Теперь нужно создать ссылки на отзывы для телефонов."
   ]
  },
  {
   "cell_type": "code",
   "execution_count": 8,
   "metadata": {
    "scrolled": true
   },
   "outputs": [
    {
     "data": {
      "text/plain": [
       "['http://deal64.ga//entry/huawei-ascend-y300/reviews/',\n",
       " 'http://deal64.ga//entry/huawei-ascend-g510/reviews/',\n",
       " 'http://deal64.ga//entry/huawei-honor-pro/reviews/',\n",
       " 'http://deal64.ga//entry/huawei-ascend-g700/reviews/',\n",
       " 'http://deal64.ga//entry/huawei-ascend-mate/reviews/',\n",
       " 'http://deal64.ga//entry/huawei-honor-3/reviews/',\n",
       " 'http://deal64.ga//entry/huawei-ascend-p2/reviews/',\n",
       " 'http://deal64.ga//entry/huawei-ascend-d2/reviews/',\n",
       " 'http://deal64.ga//entry/huawei-ascend-p6/reviews/']"
      ]
     },
     "execution_count": 8,
     "metadata": {},
     "output_type": "execute_result"
    }
   ],
   "source": [
    "phones_link = [short_main_link + i + 'reviews/' for i in phones]\n",
    "phones_link[:10]"
   ]
  },
  {
   "cell_type": "markdown",
   "metadata": {},
   "source": [
    "Возьму один из телефонов. Первое, что нужно сделать - узнать, сколько страниц с отзывами есть для этого телефона."
   ]
  },
  {
   "cell_type": "code",
   "execution_count": 9,
   "metadata": {},
   "outputs": [
    {
     "name": "stdout",
     "output_type": "stream",
     "text": [
      "['page1/', 'page2/', 'page3/', 'page4/', 'page5/']\n"
     ]
    }
   ],
   "source": [
    "req = requests.get(phones_link[2])\n",
    "soup = bs4.BeautifulSoup(req.text, 'lxml')\n",
    "links = soup.findAll('div', attrs={'class' : 'paging'})\n",
    "pages_numbers = []\n",
    "for a in links:\n",
    "    for i in a.find_all('a', href=True):\n",
    "        pages_numbers.append(i['href'].split('/')[-2] + '/')\n",
    "\n",
    "print(pages_numbers)"
   ]
  },
  {
   "cell_type": "markdown",
   "metadata": {},
   "source": [
    "Далее я добавляю пустое значение в начало листа. Это я делаю для удобства - к первой странице с отзывами номер не добавляется."
   ]
  },
  {
   "cell_type": "code",
   "execution_count": 10,
   "metadata": {
    "collapsed": true
   },
   "outputs": [],
   "source": [
    "pages_numbers.insert(0, '')"
   ]
  },
  {
   "cell_type": "markdown",
   "metadata": {},
   "source": [
    "Теперь я формирую ссылки на страницы с отзывами для телефона."
   ]
  },
  {
   "cell_type": "code",
   "execution_count": 11,
   "metadata": {},
   "outputs": [
    {
     "data": {
      "text/plain": [
       "['http://deal64.ga//entry/huawei-honor-pro/reviews/',\n",
       " 'http://deal64.ga//entry/huawei-honor-pro/reviews/page1/',\n",
       " 'http://deal64.ga//entry/huawei-honor-pro/reviews/page2/']"
      ]
     },
     "execution_count": 11,
     "metadata": {},
     "output_type": "execute_result"
    }
   ],
   "source": [
    "pages_links = [phones_link[2] + i for i in pages_numbers]\n",
    "pages_links[:3]"
   ]
  },
  {
   "cell_type": "markdown",
   "metadata": {},
   "source": [
    "Пришло время для сбора данных!"
   ]
  },
  {
   "cell_type": "code",
   "execution_count": 12,
   "metadata": {
    "collapsed": true
   },
   "outputs": [],
   "source": [
    "texts = []\n",
    "for page_link in pages_links:\n",
    "    req = requests.get(page_link)\n",
    "    soup = bs4.BeautifulSoup(req.text, 'lxml')\n",
    "    divs = soup.findAll('div', attrs={'class' : 'text'})\n",
    "    for result in divs:\n",
    "        texts.append(result.text)"
   ]
  },
  {
   "cell_type": "markdown",
   "metadata": {},
   "source": [
    "Посмотрим на отзывы."
   ]
  },
  {
   "cell_type": "code",
   "execution_count": 13,
   "metadata": {},
   "outputs": [
    {
     "data": {
      "text/plain": [
       "['Оценка: 5',\n",
       " 'За: надежный, не дорогой, большой экран, достаточно хорошая сборка',\n",
       " 'Против: батарея, после 2 лет стал чуть чуть виснуть, нет прошивки',\n",
       " 'За свои день отличный аппарат, служит уже 2 года, скоро думаю менять но пока не тороплюсь, сеть не теряет, игры норм идут, жпс тоже, в интернет норм серфить, вообщем рекомендую',\n",
       " 'Оценка: 5',\n",
       " 'За: Быстродействие системы Камера Громкий звук динамиков Минимально предустановленных программ \"от производителя\"',\n",
       " 'Против: Мало оперативки (не критично) Отсутствие новых прошивок',\n",
       " 'Телефон вполне приемлим для использования, но ждать от телефона (смартфона) большего, чем... от компа + игровой приставки + фотокамеры - не следует изначально!',\n",
       " 'Оценка: 5',\n",
       " 'За: дизайн, ЦЕНА, качество исполнения, функционал']"
      ]
     },
     "execution_count": 13,
     "metadata": {},
     "output_type": "execute_result"
    }
   ],
   "source": [
    "texts[:10]"
   ]
  },
  {
   "cell_type": "markdown",
   "metadata": {},
   "source": [
    "Структура списка отзывов такая:\n",
    "\n",
    "* Оценка;\n",
    "* Положительная часть отзыва;\n",
    "* Негативная часть отзыва;\n",
    "* Общая часть отзыва;\n",
    "\n",
    "Если бы задача была сложнее - дать оценку отзыва, проанализировать отзыв полностью или сделать что-то ещё, то могли бы потребоваться какие-то сложные телодвижения. Для решения поставленной задачи достаточно взять положительную и негативную часть отзыва."
   ]
  },
  {
   "cell_type": "markdown",
   "metadata": {},
   "source": [
    "Теперь пришла пора спарсить все отзывы."
   ]
  },
  {
   "cell_type": "code",
   "execution_count": 14,
   "metadata": {},
   "outputs": [],
   "source": [
    "def parse_site(short_main_link = 'http://deal64.ga/', main_link = 'http://deal64.ga/mobile/', testing=True):\n",
    "    '''\n",
    "    Функция для парсинга отзывов с сайта. Параметр testing означает, что функция запускается в тестовом режиме\n",
    "    и после получения 1000 вызовов она остановится. Укажите testing=False для полноценного парсинга.\n",
    "    '''\n",
    "    #Получение списка производителей телефонов.\n",
    "    req = requests.get(main_link)\n",
    "    soup = bs4.BeautifulSoup(req.text, 'lxml')\n",
    "    producers = []\n",
    "    divs = soup.findAll('ul', attrs={'class' : 'producers'})\n",
    "    for div in divs:\n",
    "        for li in div.find_all('li'):\n",
    "            producers.append(li.text)\n",
    "    \n",
    "    producers_links = [main_link + i + '/' for i in producers]\n",
    "    \n",
    "    #Получение списка телефонов.\n",
    "    phones = []\n",
    "    for producer in producers_links:\n",
    "        req = requests.get(producer)\n",
    "        soup = bs4.BeautifulSoup(req.text, 'lxml')\n",
    "        divs = soup.findAll('div', attrs={'class' : 'text'})\n",
    "\n",
    "        for a in divs:\n",
    "            for i in a.find_all('a', href=True):\n",
    "                phones.append(i['href'])\n",
    "                \n",
    "    phones_link = [short_main_link + i + 'reviews/' for i in phones]\n",
    "    \n",
    "    #Парсинг всех отзывов для выбранных телефонов.\n",
    "    texts = []\n",
    "    \n",
    "    for link in phones_link:\n",
    "        req = requests.get(link)\n",
    "        soup = bs4.BeautifulSoup(req.text, 'lxml')\n",
    "        links = soup.findAll('div', attrs={'class' : 'paging'})\n",
    "        pages_numbers = []\n",
    "        for a in links:\n",
    "            for i in a.find_all('a', href=True):\n",
    "                pages_numbers.append(i['href'].split('/')[-2] + '/')\n",
    "        pages_numbers.insert(0, '')\n",
    "\n",
    "        pages_links = [link + i for i in pages_numbers]\n",
    "\n",
    "        for page_link in pages_links:\n",
    "            req = requests.get(page_link)\n",
    "            soup = bs4.BeautifulSoup(req.text, 'lxml')\n",
    "            divs = soup.findAll('div', attrs={'class' : 'text'})\n",
    "            for result in divs:\n",
    "                texts.append(result.text)\n",
    "\n",
    "        if len(texts) > 1000 and testing==True:\n",
    "            print('Это работает! Напарсено уже 1000 отзывов. На этом пробный запуск завершён.')\n",
    "            break\n",
    "    return texts"
   ]
  },
  {
   "cell_type": "markdown",
   "metadata": {},
   "source": [
    "Попробую."
   ]
  },
  {
   "cell_type": "code",
   "execution_count": 15,
   "metadata": {},
   "outputs": [
    {
     "name": "stdout",
     "output_type": "stream",
     "text": [
      "Это работает! Напарсено уже 1000 отзывов. На этом пробный запуск завершён.\n"
     ]
    },
    {
     "data": {
      "text/plain": [
       "['Оценка: 5',\n",
       " 'За: Качественная звонилка, разговоры/СМС без проблем. Долгоиграющий аккумулятор. Достаёт номера из текста СМС.',\n",
       " 'Против: Разъём зарядки не мини/микро ЮСБ.',\n",
       " 'Покупали в срочном порядке после поломки предидущего телефона.',\n",
       " 'Оценка: 5',\n",
       " 'За: - СМС писать удобнее, чем на 5 дюймовом жкране - Зарядка 2 недели? Да!',\n",
       " 'Против: - БП почти потерял.',\n",
       " 'А что еще нужно для счастья? СМС, Звонить. Зачем нужен смартфон, если нет тарифа?',\n",
       " 'Оценка: 5',\n",
       " 'За: Цена, надежность, долговечность, хороший динамик, хороший аккумулятор']"
      ]
     },
     "execution_count": 15,
     "metadata": {},
     "output_type": "execute_result"
    }
   ],
   "source": [
    "sample_texts = parse_site()\n",
    "sample_texts[:10]"
   ]
  },
  {
   "cell_type": "markdown",
   "metadata": {},
   "source": [
    "Пробный запуск прошёл успешно. Полученные отзывы можно записать в файл."
   ]
  },
  {
   "cell_type": "code",
   "execution_count": 16,
   "metadata": {
    "collapsed": true
   },
   "outputs": [],
   "source": [
    "with open(\"sample_parsed_reviews.txt\", \"w\", encoding='utf-8') as output:\n",
    "    output.write(str(sample_texts))"
   ]
  },
  {
   "cell_type": "markdown",
   "metadata": {},
   "source": [
    "## Обработка напарсенных отзывов"
   ]
  },
  {
   "cell_type": "markdown",
   "metadata": {},
   "source": [
    "Чтобы работать с этими данными, я делаю 2 шага:\n",
    "\n",
    "* Разделяю положительные и отрицательные отзывы. Это просто - надо найти элементы листа, начинающиеся с \"За:\" или с \"Против:\" и отбросить \"За: \" или \"Против: \";\n",
    "* Создаю Dataframe с двумя столбцами: тексты отзывов и лейблами (1 для положительных и 0 для отрицательных);"
   ]
  },
  {
   "cell_type": "code",
   "execution_count": 17,
   "metadata": {
    "collapsed": true
   },
   "outputs": [],
   "source": [
    "positive = [i[4:] for i in sample_texts if i.startswith('За:')]\n",
    "negative = [i[8:] for i in sample_texts if i.startswith('Против:')]"
   ]
  },
  {
   "cell_type": "code",
   "execution_count": 18,
   "metadata": {},
   "outputs": [
    {
     "data": {
      "text/plain": [
       "(   label                                               text\n",
       " 0      1  Качественная звонилка, разговоры/СМС без пробл...\n",
       " 1      1  - СМС писать удобнее, чем на 5 дюймовом жкране...\n",
       " 2      1  Цена, надежность, долговечность, хороший динам...\n",
       " 3      1  Простой надежный телефон, заряд держит относит...\n",
       " 4      1  -Презентабельный внешний вид после более чем г...,\n",
       "      label                                               text\n",
       " 619      0                                                   \n",
       " 620      0  за эту цену можно не обращать внимания. но обо...\n",
       " 621      0  Руки бы отрубать таким производителям телефоно...\n",
       " 622      0  -якість фото і відео на 3- ;-радіо без гарніту...\n",
       " 623      0  Недостатков очень и очень много. Например: не ...)"
      ]
     },
     "execution_count": 18,
     "metadata": {},
     "output_type": "execute_result"
    }
   ],
   "source": [
    "pos_data = pd.DataFrame({'text': positive, 'label': [1 for i in positive]})\n",
    "neg_data = pd.DataFrame({'text': negative, 'label': [0 for i in negative]})\n",
    "sample_data = pos_data.append(neg_data, ignore_index=True)\n",
    "sample_data.head(), sample_data.tail()"
   ]
  },
  {
   "cell_type": "code",
   "execution_count": 19,
   "metadata": {
    "collapsed": true
   },
   "outputs": [],
   "source": [
    "#Запись отзывов в файл.\n",
    "sample_data.to_csv('sample_parsed_reviews.csv', encoding='utf-8')"
   ]
  },
  {
   "cell_type": "markdown",
   "metadata": {},
   "source": [
    "Теперь можно либо спарсить все отзывы, либо считать сохранённые данные с диска. Вот функция для этого."
   ]
  },
  {
   "cell_type": "code",
   "execution_count": 20,
   "metadata": {},
   "outputs": [],
   "source": [
    "def get_reviews(action='load_reviews'):\n",
    "    '''\n",
    "    Функция для получения DataFrame с отзывами и лейблами.\n",
    "    Параметр action принимает 2 значения:\n",
    "    parse_reviews - парсит отзывы с сайтов и обрабатывает их.\n",
    "    load_reviews - загружает отзывы с диска.\n",
    "    '''\n",
    "    if action == 'load_reviews':\n",
    "        data = pd.read_csv(r'd:\\_python\\Python projects\\Coursera_Y_M\\parsed_reviews.csv')\n",
    "        \n",
    "    elif action == 'parse_reviews':\n",
    "        texts = parse_site(testing=False)\n",
    "        positive = [i[4:] for i in texts if i.startswith('За:')]\n",
    "        negative = [i[8:] for i in texts if i.startswith('Против:')]\n",
    "        \n",
    "        pos_data = pd.DataFrame({'text': positive, 'label': [1 for i in positive]})\n",
    "        neg_data = pd.DataFrame({'text': negative, 'label': [0 for i in negative]})\n",
    "        data = pos_data.append(neg_data, ignore_index=True)\n",
    "    return data"
   ]
  },
  {
   "cell_type": "code",
   "execution_count": 21,
   "metadata": {},
   "outputs": [],
   "source": [
    "data = get_reviews()"
   ]
  },
  {
   "cell_type": "code",
   "execution_count": 22,
   "metadata": {},
   "outputs": [
    {
     "data": {
      "text/html": [
       "<div>\n",
       "<table border=\"1\" class=\"dataframe\">\n",
       "  <thead>\n",
       "    <tr style=\"text-align: right;\">\n",
       "      <th></th>\n",
       "      <th>label</th>\n",
       "      <th>text</th>\n",
       "    </tr>\n",
       "  </thead>\n",
       "  <tbody>\n",
       "    <tr>\n",
       "      <th>0</th>\n",
       "      <td>1</td>\n",
       "      <td>Качественная звонилка, разговоры/СМС без пробл...</td>\n",
       "    </tr>\n",
       "    <tr>\n",
       "      <th>1</th>\n",
       "      <td>1</td>\n",
       "      <td>- СМС писать удобнее, чем на 5 дюймовом жкране...</td>\n",
       "    </tr>\n",
       "    <tr>\n",
       "      <th>2</th>\n",
       "      <td>1</td>\n",
       "      <td>Цена, надежность, долговечность, хороший динам...</td>\n",
       "    </tr>\n",
       "    <tr>\n",
       "      <th>3</th>\n",
       "      <td>1</td>\n",
       "      <td>Простой надежный телефон, заряд держит относит...</td>\n",
       "    </tr>\n",
       "    <tr>\n",
       "      <th>4</th>\n",
       "      <td>1</td>\n",
       "      <td>-Презентабельный внешний вид после более чем г...</td>\n",
       "    </tr>\n",
       "  </tbody>\n",
       "</table>\n",
       "</div>"
      ],
      "text/plain": [
       "   label                                               text\n",
       "0      1  Качественная звонилка, разговоры/СМС без пробл...\n",
       "1      1  - СМС писать удобнее, чем на 5 дюймовом жкране...\n",
       "2      1  Цена, надежность, долговечность, хороший динам...\n",
       "3      1  Простой надежный телефон, заряд держит относит...\n",
       "4      1  -Презентабельный внешний вид после более чем г..."
      ]
     },
     "execution_count": 22,
     "metadata": {},
     "output_type": "execute_result"
    }
   ],
   "source": [
    "data.head()"
   ]
  },
  {
   "cell_type": "code",
   "execution_count": 23,
   "metadata": {},
   "outputs": [],
   "source": [
    "#Некоторые отзывы пусты; при записи в csv и считывании они считаются Nan. Исправяю это, заменяя их на пробелы.\n",
    "data.fillna(' ', inplace=True)"
   ]
  }
 ],
 "metadata": {
  "kernelspec": {
   "display_name": "Python 3",
   "language": "python",
   "name": "python3"
  },
  "language_info": {
   "codemirror_mode": {
    "name": "ipython",
    "version": 3
   },
   "file_extension": ".py",
   "mimetype": "text/x-python",
   "name": "python",
   "nbconvert_exporter": "python",
   "pygments_lexer": "ipython3",
   "version": "3.6.1+"
  }
 },
 "nbformat": 4,
 "nbformat_minor": 2
}
