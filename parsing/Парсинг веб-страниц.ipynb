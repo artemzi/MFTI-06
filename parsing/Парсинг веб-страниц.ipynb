{
 "cells": [
  {
   "cell_type": "code",
   "execution_count": 1,
   "metadata": {
    "collapsed": true
   },
   "outputs": [],
   "source": [
    "import requests\n",
    "from bs4 import BeautifulSoup"
   ]
  },
  {
   "cell_type": "markdown",
   "metadata": {},
   "source": [
    "Чтобы продемонстрировать, что вы разобрались, как использовать requests и beautiful soup, распарсите: \n",
    "* а) из статьи https://en.wikipedia.org/wiki/Bias-variance_tradeoff все заголовки верхнего уровня [ссылка](#1);\n",
    "* б) со страницы https://en.wikipedia.org/wiki/Category:Machine_learning_algorithms названия всех статей в категории Machine Learning Algorithms [ссылка](#2)"
   ]
  },
  {
   "cell_type": "markdown",
   "metadata": {},
   "source": [
    "### Начнем с пункта (a):<a id='1'></a>"
   ]
  },
  {
   "cell_type": "code",
   "execution_count": 2,
   "metadata": {},
   "outputs": [
    {
     "name": "stdout",
     "output_type": "stream",
     "text": [
      "Status: 200\n"
     ]
    }
   ],
   "source": [
    "req = requests.get('https://en.wikipedia.org/wiki/Bias–variance_tradeoff')\n",
    "\n",
    "print(\"Status: {}\".format(req.status_code))"
   ]
  },
  {
   "cell_type": "code",
   "execution_count": 6,
   "metadata": {},
   "outputs": [],
   "source": [
    "soup = BeautifulSoup(req.text, \"html5lib\")"
   ]
  },
  {
   "cell_type": "code",
   "execution_count": 13,
   "metadata": {},
   "outputs": [
    {
     "name": "stdout",
     "output_type": "stream",
     "text": [
      "[<h1 class=\"firstHeading\" id=\"firstHeading\" lang=\"en\">Bias–variance tradeoff</h1>]\n"
     ]
    }
   ],
   "source": [
    "print(soup.findAll('h1'))\n",
    "# print(soup.findAll('h2'))"
   ]
  },
  {
   "cell_type": "markdown",
   "metadata": {},
   "source": [
    "Похоже в статье всего один заголовок верхнего уровня и это скучно. Потому мы возьмем из нее все заголовки, это не наршует условий задания."
   ]
  },
  {
   "cell_type": "code",
   "execution_count": 36,
   "metadata": {},
   "outputs": [
    {
     "name": "stdout",
     "output_type": "stream",
     "text": [
      "Header tag: h1,\n",
      "header text: Bias–variance tradeoff\n",
      "\n",
      "----\n",
      "\n",
      "Header tag: h2,\n",
      "header text: Contents\n",
      "\n",
      "----\n",
      "\n",
      "Header tag: h2,\n",
      "header text: Motivation\n",
      "\n",
      "----\n",
      "\n",
      "Header tag: h2,\n",
      "header text: Bias–variance decomposition of squared error\n",
      "\n",
      "----\n",
      "\n",
      "Header tag: h3,\n",
      "header text: Derivation\n",
      "\n",
      "----\n",
      "\n",
      "Header tag: h2,\n",
      "header text: Application to regression\n",
      "\n",
      "----\n",
      "\n",
      "Header tag: h2,\n",
      "header text: Application to classification\n",
      "\n",
      "----\n",
      "\n",
      "Header tag: h2,\n",
      "header text: Approaches\n",
      "\n",
      "----\n",
      "\n",
      "Header tag: h3,\n",
      "header text: K-nearest neighbors\n",
      "\n",
      "----\n",
      "\n",
      "Header tag: h2,\n",
      "header text: Application to human learning\n",
      "\n",
      "----\n",
      "\n",
      "Header tag: h2,\n",
      "header text: See also\n",
      "\n",
      "----\n",
      "\n",
      "Header tag: h2,\n",
      "header text: References\n",
      "\n",
      "----\n",
      "\n",
      "Header tag: h2,\n",
      "header text: External links\n",
      "\n",
      "----\n",
      "\n",
      "Header tag: h2,\n",
      "header text: Navigation menu\n",
      "\n",
      "----\n",
      "\n",
      "Header tag: h3,\n",
      "header text: Personal tools\n",
      "\n",
      "----\n",
      "\n",
      "Header tag: h3,\n",
      "header text: Namespaces\n",
      "\n",
      "----\n",
      "\n",
      "Header tag: h3,\n",
      "header text: Variants\n",
      "\n",
      "----\n",
      "\n",
      "Header tag: h3,\n",
      "header text: Views\n",
      "\n",
      "----\n",
      "\n",
      "Header tag: h3,\n",
      "header text: More\n",
      "\n",
      "----\n",
      "\n",
      "Header tag: h3,\n",
      "header text: Search\n",
      "\n",
      "----\n",
      "\n",
      "Header tag: h3,\n",
      "header text: Navigation\n",
      "\n",
      "----\n",
      "\n",
      "Header tag: h3,\n",
      "header text: Interaction\n",
      "\n",
      "----\n",
      "\n",
      "Header tag: h3,\n",
      "header text: Tools\n",
      "\n",
      "----\n",
      "\n",
      "Header tag: h3,\n",
      "header text: Print/export\n",
      "\n",
      "----\n",
      "\n",
      "Header tag: h3,\n",
      "header text: Languages\n",
      "\n",
      "----\n",
      "\n"
     ]
    }
   ],
   "source": [
    "import re\n",
    "\n",
    "for header in soup.find_all(re.compile('^h[1-6]$')): # find all headers from h1 to h6\n",
    "    # Remove white spaces and '[edit]' link from text and print tag and text\n",
    "    print(\"Header tag: {},\\nheader text: {}\".format(header.name, header.text.strip().replace('[edit]', '')))\n",
    "    print('\\n----\\n')"
   ]
  },
  {
   "cell_type": "markdown",
   "metadata": {},
   "source": [
    "### Теперь второй пункт задания (б): <a id='2'></a>"
   ]
  },
  {
   "cell_type": "code",
   "execution_count": 37,
   "metadata": {},
   "outputs": [
    {
     "name": "stdout",
     "output_type": "stream",
     "text": [
      "Status: 200\n"
     ]
    }
   ],
   "source": [
    "req = requests.get('https://en.wikipedia.org/wiki/Category:Machine_learning_algorithms')\n",
    "\n",
    "print(\"Status: {}\".format(req.status_code))"
   ]
  },
  {
   "cell_type": "code",
   "execution_count": 38,
   "metadata": {
    "collapsed": true
   },
   "outputs": [],
   "source": [
    "soup = BeautifulSoup(req.text, \"html5lib\")"
   ]
  },
  {
   "cell_type": "code",
   "execution_count": 46,
   "metadata": {
    "collapsed": true
   },
   "outputs": [],
   "source": [
    "block = soup.find(\"div\", {\"id\": \"mw-pages\"}) # Pages in category \"Machine learning algorithms\"\n",
    "category_blocks = block.find_all(\"div\", {\"class\": \"mw-category-group\"}) # groups arranged by first letter"
   ]
  },
  {
   "cell_type": "code",
   "execution_count": 69,
   "metadata": {},
   "outputs": [],
   "source": [
    "headers = []\n",
    "\n",
    "for category in category_blocks:\n",
    "    page = category.find_all('li')\n",
    "    for el in page:\n",
    "        headers.append(el.text)"
   ]
  },
  {
   "cell_type": "code",
   "execution_count": 70,
   "metadata": {},
   "outputs": [
    {
     "name": "stdout",
     "output_type": "stream",
     "text": [
      "Headers count: 56\n",
      "Headers list:\n",
      "\n"
     ]
    },
    {
     "data": {
      "text/plain": [
       "['Almeida–Pineda recurrent backpropagation',\n",
       " 'Backpropagation',\n",
       " 'Bootstrap aggregating',\n",
       " 'CN2 algorithm',\n",
       " 'Constructing skill trees',\n",
       " 'Dehaene–Changeux model',\n",
       " 'Diffusion map',\n",
       " 'Dominance-based rough set approach',\n",
       " 'Dynamic time warping',\n",
       " 'Error-driven learning',\n",
       " 'Evolutionary multimodal optimization',\n",
       " 'Expectation–maximization algorithm',\n",
       " 'FastICA',\n",
       " 'Forward–backward algorithm',\n",
       " 'GeneRec',\n",
       " 'Genetic Algorithm for Rule Set Production',\n",
       " 'Growing self-organizing map',\n",
       " 'HEXQ',\n",
       " 'Hyper basis function network',\n",
       " 'IDistance',\n",
       " 'K-nearest neighbors algorithm',\n",
       " 'Kernel methods for vector output',\n",
       " 'Kernel principal component analysis',\n",
       " 'Leabra',\n",
       " 'Linde–Buzo–Gray algorithm',\n",
       " 'Local outlier factor',\n",
       " 'Logic learning machine',\n",
       " 'LogitBoost',\n",
       " 'Loss functions for classification',\n",
       " 'Manifold alignment',\n",
       " 'Minimum redundancy feature selection',\n",
       " 'Mixture of experts',\n",
       " 'Multiple kernel learning',\n",
       " 'Non-negative matrix factorization',\n",
       " 'Online machine learning',\n",
       " 'Out-of-bag error',\n",
       " 'Prefrontal cortex basal ganglia working memory',\n",
       " 'PVLV',\n",
       " 'Q-learning',\n",
       " 'Quadratic unconstrained binary optimization',\n",
       " 'Query level feature',\n",
       " 'Quickprop',\n",
       " 'Radial basis function network',\n",
       " 'Randomized weighted majority algorithm',\n",
       " 'Reinforcement learning',\n",
       " 'Rprop',\n",
       " 'Rule-based machine learning',\n",
       " 'Skill chaining',\n",
       " 'Sparse PCA',\n",
       " 'State-Action-Reward-State-Action',\n",
       " 'Stochastic gradient descent',\n",
       " 'Structured kNN',\n",
       " 'T-distributed stochastic neighbor embedding',\n",
       " 'Temporal difference learning',\n",
       " 'Wake-sleep algorithm',\n",
       " 'Weighted Majority Algorithm']"
      ]
     },
     "execution_count": 70,
     "metadata": {},
     "output_type": "execute_result"
    }
   ],
   "source": [
    "print(\"Headers count: {}\\nHeaders list:\\n\".format(len(headers)))\n",
    "[i for i in headers]"
   ]
  },
  {
   "cell_type": "markdown",
   "metadata": {},
   "source": [
    "### Вывод"
   ]
  },
  {
   "cell_type": "markdown",
   "metadata": {},
   "source": [
    "В результате выполнения пункта 'а' имеем все заголовки уровней с 1 по 6, а пункта 'b', список всех 56 страниц категории \"Machine learning algorithms\"."
   ]
  }
 ],
 "metadata": {
  "kernelspec": {
   "display_name": "Python 3",
   "language": "python",
   "name": "python3"
  },
  "language_info": {
   "codemirror_mode": {
    "name": "ipython",
    "version": 3
   },
   "file_extension": ".py",
   "mimetype": "text/x-python",
   "name": "python",
   "nbconvert_exporter": "python",
   "pygments_lexer": "ipython3",
   "version": "3.6.1+"
  }
 },
 "nbformat": 4,
 "nbformat_minor": 2
}
